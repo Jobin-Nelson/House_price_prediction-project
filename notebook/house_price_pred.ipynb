{
 "cells": [
  {
   "cell_type": "code",
   "execution_count": 378,
   "metadata": {},
   "outputs": [],
   "source": [
    "import pandas as pd\n",
    "import numpy as np\n",
    "import matplotlib.pyplot as plt\n",
    "import matplotlib\n",
    "%matplotlib inline\n",
    "matplotlib.rcParams['figure.figsize'] = (20,10)\n",
    "import seaborn as sns"
   ]
  },
  {
   "cell_type": "code",
   "execution_count": 379,
   "metadata": {},
   "outputs": [
    {
     "data": {
      "text/html": [
       "<div>\n",
       "<style scoped>\n",
       "    .dataframe tbody tr th:only-of-type {\n",
       "        vertical-align: middle;\n",
       "    }\n",
       "\n",
       "    .dataframe tbody tr th {\n",
       "        vertical-align: top;\n",
       "    }\n",
       "\n",
       "    .dataframe thead th {\n",
       "        text-align: right;\n",
       "    }\n",
       "</style>\n",
       "<table border=\"1\" class=\"dataframe\">\n",
       "  <thead>\n",
       "    <tr style=\"text-align: right;\">\n",
       "      <th></th>\n",
       "      <th>area_type</th>\n",
       "      <th>availability</th>\n",
       "      <th>location</th>\n",
       "      <th>size</th>\n",
       "      <th>society</th>\n",
       "      <th>total_sqft</th>\n",
       "      <th>bath</th>\n",
       "      <th>balcony</th>\n",
       "      <th>price</th>\n",
       "    </tr>\n",
       "  </thead>\n",
       "  <tbody>\n",
       "    <tr>\n",
       "      <th>0</th>\n",
       "      <td>Super built-up  Area</td>\n",
       "      <td>19-Dec</td>\n",
       "      <td>Electronic City Phase II</td>\n",
       "      <td>2 BHK</td>\n",
       "      <td>Coomee</td>\n",
       "      <td>1056</td>\n",
       "      <td>2.0</td>\n",
       "      <td>1.0</td>\n",
       "      <td>39.07</td>\n",
       "    </tr>\n",
       "    <tr>\n",
       "      <th>1</th>\n",
       "      <td>Plot  Area</td>\n",
       "      <td>Ready To Move</td>\n",
       "      <td>Chikka Tirupathi</td>\n",
       "      <td>4 Bedroom</td>\n",
       "      <td>Theanmp</td>\n",
       "      <td>2600</td>\n",
       "      <td>5.0</td>\n",
       "      <td>3.0</td>\n",
       "      <td>120.00</td>\n",
       "    </tr>\n",
       "    <tr>\n",
       "      <th>2</th>\n",
       "      <td>Built-up  Area</td>\n",
       "      <td>Ready To Move</td>\n",
       "      <td>Uttarahalli</td>\n",
       "      <td>3 BHK</td>\n",
       "      <td>NaN</td>\n",
       "      <td>1440</td>\n",
       "      <td>2.0</td>\n",
       "      <td>3.0</td>\n",
       "      <td>62.00</td>\n",
       "    </tr>\n",
       "    <tr>\n",
       "      <th>3</th>\n",
       "      <td>Super built-up  Area</td>\n",
       "      <td>Ready To Move</td>\n",
       "      <td>Lingadheeranahalli</td>\n",
       "      <td>3 BHK</td>\n",
       "      <td>Soiewre</td>\n",
       "      <td>1521</td>\n",
       "      <td>3.0</td>\n",
       "      <td>1.0</td>\n",
       "      <td>95.00</td>\n",
       "    </tr>\n",
       "    <tr>\n",
       "      <th>4</th>\n",
       "      <td>Super built-up  Area</td>\n",
       "      <td>Ready To Move</td>\n",
       "      <td>Kothanur</td>\n",
       "      <td>2 BHK</td>\n",
       "      <td>NaN</td>\n",
       "      <td>1200</td>\n",
       "      <td>2.0</td>\n",
       "      <td>1.0</td>\n",
       "      <td>51.00</td>\n",
       "    </tr>\n",
       "  </tbody>\n",
       "</table>\n",
       "</div>"
      ],
      "text/plain": [
       "              area_type   availability                  location       size  \\\n",
       "0  Super built-up  Area         19-Dec  Electronic City Phase II      2 BHK   \n",
       "1            Plot  Area  Ready To Move          Chikka Tirupathi  4 Bedroom   \n",
       "2        Built-up  Area  Ready To Move               Uttarahalli      3 BHK   \n",
       "3  Super built-up  Area  Ready To Move        Lingadheeranahalli      3 BHK   \n",
       "4  Super built-up  Area  Ready To Move                  Kothanur      2 BHK   \n",
       "\n",
       "   society total_sqft  bath  balcony   price  \n",
       "0  Coomee        1056   2.0      1.0   39.07  \n",
       "1  Theanmp       2600   5.0      3.0  120.00  \n",
       "2      NaN       1440   2.0      3.0   62.00  \n",
       "3  Soiewre       1521   3.0      1.0   95.00  \n",
       "4      NaN       1200   2.0      1.0   51.00  "
      ]
     },
     "execution_count": 379,
     "metadata": {},
     "output_type": "execute_result"
    }
   ],
   "source": [
    "# Load the dataset\n",
    "df = pd.read_csv('..\\\\data\\\\Bengaluru_House_Data.csv')\n",
    "df.head()"
   ]
  },
  {
   "cell_type": "code",
   "execution_count": 380,
   "metadata": {},
   "outputs": [
    {
     "data": {
      "text/plain": [
       "(13320, 9)"
      ]
     },
     "execution_count": 380,
     "metadata": {},
     "output_type": "execute_result"
    }
   ],
   "source": [
    "df.shape"
   ]
  },
  {
   "cell_type": "code",
   "execution_count": 381,
   "metadata": {},
   "outputs": [
    {
     "name": "stdout",
     "output_type": "stream",
     "text": [
      "<class 'pandas.core.frame.DataFrame'>\n",
      "RangeIndex: 13320 entries, 0 to 13319\n",
      "Data columns (total 9 columns):\n",
      " #   Column        Non-Null Count  Dtype  \n",
      "---  ------        --------------  -----  \n",
      " 0   area_type     13320 non-null  object \n",
      " 1   availability  13320 non-null  object \n",
      " 2   location      13319 non-null  object \n",
      " 3   size          13304 non-null  object \n",
      " 4   society       7818 non-null   object \n",
      " 5   total_sqft    13320 non-null  object \n",
      " 6   bath          13247 non-null  float64\n",
      " 7   balcony       12711 non-null  float64\n",
      " 8   price         13320 non-null  float64\n",
      "dtypes: float64(3), object(6)\n",
      "memory usage: 936.7+ KB\n"
     ]
    }
   ],
   "source": [
    "df.info()"
   ]
  },
  {
   "cell_type": "code",
   "execution_count": 382,
   "metadata": {},
   "outputs": [
    {
     "data": {
      "text/html": [
       "<div>\n",
       "<style scoped>\n",
       "    .dataframe tbody tr th:only-of-type {\n",
       "        vertical-align: middle;\n",
       "    }\n",
       "\n",
       "    .dataframe tbody tr th {\n",
       "        vertical-align: top;\n",
       "    }\n",
       "\n",
       "    .dataframe thead th {\n",
       "        text-align: right;\n",
       "    }\n",
       "</style>\n",
       "<table border=\"1\" class=\"dataframe\">\n",
       "  <thead>\n",
       "    <tr style=\"text-align: right;\">\n",
       "      <th></th>\n",
       "      <th>bath</th>\n",
       "      <th>balcony</th>\n",
       "      <th>price</th>\n",
       "    </tr>\n",
       "  </thead>\n",
       "  <tbody>\n",
       "    <tr>\n",
       "      <th>count</th>\n",
       "      <td>13247.000000</td>\n",
       "      <td>12711.000000</td>\n",
       "      <td>13320.000000</td>\n",
       "    </tr>\n",
       "    <tr>\n",
       "      <th>mean</th>\n",
       "      <td>2.692610</td>\n",
       "      <td>1.584376</td>\n",
       "      <td>112.565627</td>\n",
       "    </tr>\n",
       "    <tr>\n",
       "      <th>std</th>\n",
       "      <td>1.341458</td>\n",
       "      <td>0.817263</td>\n",
       "      <td>148.971674</td>\n",
       "    </tr>\n",
       "    <tr>\n",
       "      <th>min</th>\n",
       "      <td>1.000000</td>\n",
       "      <td>0.000000</td>\n",
       "      <td>8.000000</td>\n",
       "    </tr>\n",
       "    <tr>\n",
       "      <th>25%</th>\n",
       "      <td>2.000000</td>\n",
       "      <td>1.000000</td>\n",
       "      <td>50.000000</td>\n",
       "    </tr>\n",
       "    <tr>\n",
       "      <th>50%</th>\n",
       "      <td>2.000000</td>\n",
       "      <td>2.000000</td>\n",
       "      <td>72.000000</td>\n",
       "    </tr>\n",
       "    <tr>\n",
       "      <th>75%</th>\n",
       "      <td>3.000000</td>\n",
       "      <td>2.000000</td>\n",
       "      <td>120.000000</td>\n",
       "    </tr>\n",
       "    <tr>\n",
       "      <th>max</th>\n",
       "      <td>40.000000</td>\n",
       "      <td>3.000000</td>\n",
       "      <td>3600.000000</td>\n",
       "    </tr>\n",
       "  </tbody>\n",
       "</table>\n",
       "</div>"
      ],
      "text/plain": [
       "               bath       balcony         price\n",
       "count  13247.000000  12711.000000  13320.000000\n",
       "mean       2.692610      1.584376    112.565627\n",
       "std        1.341458      0.817263    148.971674\n",
       "min        1.000000      0.000000      8.000000\n",
       "25%        2.000000      1.000000     50.000000\n",
       "50%        2.000000      2.000000     72.000000\n",
       "75%        3.000000      2.000000    120.000000\n",
       "max       40.000000      3.000000   3600.000000"
      ]
     },
     "execution_count": 382,
     "metadata": {},
     "output_type": "execute_result"
    }
   ],
   "source": [
    "df.describe()"
   ]
  },
  {
   "cell_type": "markdown",
   "metadata": {},
   "source": [
    "## Data exploration"
   ]
  },
  {
   "cell_type": "code",
   "execution_count": 383,
   "metadata": {},
   "outputs": [
    {
     "data": {
      "text/plain": [
       "array([[<AxesSubplot:title={'center':'bath'}>,\n",
       "        <AxesSubplot:title={'center':'balcony'}>],\n",
       "       [<AxesSubplot:title={'center':'price'}>, <AxesSubplot:>]],\n",
       "      dtype=object)"
      ]
     },
     "execution_count": 383,
     "metadata": {},
     "output_type": "execute_result"
    },
    {
     "data": {
      "image/png": "[encoded data removed]",
      "text/plain": [
       "<Figure size 1440x720 with 4 Axes>"
      ]
     },
     "metadata": {
      "needs_background": "light"
     },
     "output_type": "display_data"
    }
   ],
   "source": [
    "df.hist(figsize=(20,10))"
   ]
  },
  {
   "cell_type": "code",
   "execution_count": 384,
   "metadata": {},
   "outputs": [
    {
     "data": {
      "text/plain": [
       "area_type          0\n",
       "availability       0\n",
       "location           1\n",
       "size              16\n",
       "society         5502\n",
       "total_sqft         0\n",
       "bath              73\n",
       "balcony          609\n",
       "price              0\n",
       "dtype: int64"
      ]
     },
     "execution_count": 384,
     "metadata": {},
     "output_type": "execute_result"
    }
   ],
   "source": [
    "df.isnull().sum()\n",
    "# society has high missing values, we can think of dropping that feature"
   ]
  },
  {
   "cell_type": "markdown",
   "metadata": {},
   "source": [
    "### Area type"
   ]
  },
  {
   "cell_type": "code",
   "execution_count": 385,
   "metadata": {},
   "outputs": [
    {
     "data": {
      "text/plain": [
       "Super built-up  Area    65.990991\n",
       "Built-up  Area          18.153153\n",
       "Plot  Area              15.202703\n",
       "Carpet  Area             0.653153\n",
       "Name: area_type, dtype: float64"
      ]
     },
     "execution_count": 385,
     "metadata": {},
     "output_type": "execute_result"
    }
   ],
   "source": [
    "df.area_type.value_counts(normalize=True)*100\n",
    "# more than 50% of the values are super built-up area"
   ]
  },
  {
   "cell_type": "code",
   "execution_count": 386,
   "metadata": {},
   "outputs": [
    {
     "data": {
      "text/plain": [
       "Text(0.5, 1.0, 'Count of Area Type')"
      ]
     },
     "execution_count": 386,
     "metadata": {},
     "output_type": "execute_result"
    },
    {
     "data": {
      "image/png": "[encoded data removed]",
      "text/plain": [
       "<Figure size 576x360 with 1 Axes>"
      ]
     },
     "metadata": {
      "needs_background": "light"
     },
     "output_type": "display_data"
    }
   ],
   "source": [
    "plt.figure(figsize=(8,5))\n",
    "\n",
    "sns.countplot(data=df, x='area_type')\n",
    "plt.title('Count of Area Type')"
   ]
  },
  {
   "cell_type": "markdown",
   "metadata": {},
   "source": [
    "### Availability"
   ]
  },
  {
   "cell_type": "code",
   "execution_count": 387,
   "metadata": {},
   "outputs": [
    {
     "data": {
      "text/plain": [
       "Ready To Move    0.794369\n",
       "18-Dec           0.023048\n",
       "18-May           0.022147\n",
       "18-Apr           0.020345\n",
       "18-Aug           0.015015\n",
       "                   ...   \n",
       "16-Jul           0.000075\n",
       "17-Jan           0.000075\n",
       "16-Oct           0.000075\n",
       "15-Jun           0.000075\n",
       "16-Nov           0.000075\n",
       "Name: availability, Length: 81, dtype: float64"
      ]
     },
     "execution_count": 387,
     "metadata": {},
     "output_type": "execute_result"
    }
   ],
   "source": [
    "df.availability.value_counts(normalize=True)\n",
    "# approx 80% of the houses are ready to move"
   ]
  },
  {
   "cell_type": "markdown",
   "metadata": {},
   "source": [
    "### Location"
   ]
  },
  {
   "cell_type": "code",
   "execution_count": 388,
   "metadata": {},
   "outputs": [
    {
     "name": "stdout",
     "output_type": "stream",
     "text": [
      "1305\n",
      "Whitefield                         540\n",
      "Sarjapur  Road                     399\n",
      "Electronic City                    302\n",
      "Kanakpura Road                     273\n",
      "Thanisandra                        234\n",
      "                                  ... \n",
      "Viviani Road                         1\n",
      "Narayanappa Layout                   1\n",
      "Nagarbhavi Garden Villas Layout      1\n",
      "LIC Colony                           1\n",
      "SARJAPUR BAGALUR ROAD                1\n",
      "Name: location, Length: 1305, dtype: int64\n"
     ]
    }
   ],
   "source": [
    "print(df.location.nunique())\n",
    "print(df.location.value_counts())\n",
    "# we have to do some data manipulation to reduce the cardinality of this feature"
   ]
  },
  {
   "cell_type": "markdown",
   "metadata": {},
   "source": [
    "### Size"
   ]
  },
  {
   "cell_type": "code",
   "execution_count": 389,
   "metadata": {},
   "outputs": [
    {
     "data": {
      "text/plain": [
       "31"
      ]
     },
     "execution_count": 389,
     "metadata": {},
     "output_type": "execute_result"
    }
   ],
   "source": [
    "df['size'].nunique()"
   ]
  },
  {
   "cell_type": "code",
   "execution_count": 390,
   "metadata": {},
   "outputs": [
    {
     "data": {
      "text/plain": [
       "Text(0.5, 1.0, 'Count of plot size')"
      ]
     },
     "execution_count": 390,
     "metadata": {},
     "output_type": "execute_result"
    },
    {
     "data": {
      "image/png": "[encoded data removed]",
      "text/plain": [
       "<Figure size 1440x720 with 1 Axes>"
      ]
     },
     "metadata": {
      "needs_background": "light"
     },
     "output_type": "display_data"
    }
   ],
   "source": [
    "sns.countplot(data=df, y='size')\n",
    "plt.title('Count of plot size')\n",
    "# 2 BHK and 2 Bedroom are supposed to mean the same thing, we should take care of this at feature engineering stage"
   ]
  },
  {
   "cell_type": "markdown",
   "metadata": {},
   "source": [
    "### Society"
   ]
  },
  {
   "cell_type": "code",
   "execution_count": 391,
   "metadata": {},
   "outputs": [
    {
     "name": "stdout",
     "output_type": "stream",
     "text": [
      "2688\n",
      "GrrvaGr    80\n",
      "PrarePa    76\n",
      "Sryalan    59\n",
      "Prtates    59\n",
      "GMown E    56\n",
      "           ..\n",
      "Krberl      1\n",
      "SVdhaig     1\n",
      "IJent A     1\n",
      "DSthian     1\n",
      "KlarkBe     1\n",
      "Name: society, Length: 2688, dtype: int64\n"
     ]
    }
   ],
   "source": [
    "print(df['society'].nunique())\n",
    "print(df['society'].value_counts(dropna=True))\n",
    "# we can think of dropping this column as it has high cardinality and missing values"
   ]
  },
  {
   "cell_type": "markdown",
   "metadata": {},
   "source": [
    "### Total square feet"
   ]
  },
  {
   "cell_type": "code",
   "execution_count": 392,
   "metadata": {},
   "outputs": [
    {
     "data": {
      "text/plain": [
       "area_type        object\n",
       "availability     object\n",
       "location         object\n",
       "size             object\n",
       "society          object\n",
       "total_sqft       object\n",
       "bath            float64\n",
       "balcony         float64\n",
       "price           float64\n",
       "dtype: object"
      ]
     },
     "execution_count": 392,
     "metadata": {},
     "output_type": "execute_result"
    }
   ],
   "source": [
    "df.dtypes"
   ]
  },
  {
   "cell_type": "code",
   "execution_count": 393,
   "metadata": {},
   "outputs": [
    {
     "data": {
      "text/plain": [
       "'2100 - 2850'"
      ]
     },
     "execution_count": 393,
     "metadata": {},
     "output_type": "execute_result"
    }
   ],
   "source": [
    "df['total_sqft'][30]\n",
    "# this feature contains values in different units, even in ranges"
   ]
  },
  {
   "cell_type": "markdown",
   "metadata": {},
   "source": [
    "### bath"
   ]
  },
  {
   "cell_type": "code",
   "execution_count": 394,
   "metadata": {},
   "outputs": [
    {
     "data": {
      "text/plain": [
       "count    13247.000000\n",
       "mean         2.692610\n",
       "std          1.341458\n",
       "min          1.000000\n",
       "25%          2.000000\n",
       "50%          2.000000\n",
       "75%          3.000000\n",
       "max         40.000000\n",
       "Name: bath, dtype: float64"
      ]
     },
     "execution_count": 394,
     "metadata": {},
     "output_type": "execute_result"
    }
   ],
   "source": [
    "df['bath'].describe()"
   ]
  },
  {
   "cell_type": "code",
   "execution_count": 395,
   "metadata": {},
   "outputs": [
    {
     "data": {
      "text/plain": [
       "Text(0.5, 1.0, 'Count of bathrooms')"
      ]
     },
     "execution_count": 395,
     "metadata": {},
     "output_type": "execute_result"
    },
    {
     "data": {
      "image/png": "[encoded data removed]",
      "text/plain": [
       "<Figure size 1440x720 with 1 Axes>"
      ]
     },
     "metadata": {
      "needs_background": "light"
     },
     "output_type": "display_data"
    }
   ],
   "source": [
    "sns.countplot(data=df, x='bath')\n",
    "plt.title('Count of bathrooms')"
   ]
  },
  {
   "cell_type": "code",
   "execution_count": 396,
   "metadata": {},
   "outputs": [
    {
     "data": {
      "text/plain": [
       "1.0      788\n",
       "2.0     6908\n",
       "3.0     3286\n",
       "4.0     1226\n",
       "5.0      524\n",
       "6.0      273\n",
       "7.0      102\n",
       "8.0       64\n",
       "9.0       43\n",
       "10.0      13\n",
       "11.0       3\n",
       "12.0       7\n",
       "13.0       3\n",
       "14.0       1\n",
       "15.0       1\n",
       "16.0       2\n",
       "18.0       1\n",
       "27.0       1\n",
       "40.0       1\n",
       "Name: bath, dtype: int64"
      ]
     },
     "execution_count": 396,
     "metadata": {},
     "output_type": "execute_result"
    }
   ],
   "source": [
    "df['bath'].value_counts().sort_index()"
   ]
  },
  {
   "cell_type": "markdown",
   "metadata": {},
   "source": [
    "### Balcony"
   ]
  },
  {
   "cell_type": "code",
   "execution_count": 397,
   "metadata": {},
   "outputs": [
    {
     "data": {
      "text/plain": [
       "2.0    5113\n",
       "1.0    4897\n",
       "3.0    1672\n",
       "0.0    1029\n",
       "Name: balcony, dtype: int64"
      ]
     },
     "execution_count": 397,
     "metadata": {},
     "output_type": "execute_result"
    }
   ],
   "source": [
    "df['balcony'].value_counts(dropna=True)"
   ]
  },
  {
   "cell_type": "code",
   "execution_count": 398,
   "metadata": {},
   "outputs": [
    {
     "data": {
      "text/plain": [
       "Text(0.5, 1.0, 'count of balcony')"
      ]
     },
     "execution_count": 398,
     "metadata": {},
     "output_type": "execute_result"
    },
    {
     "data": {
      "image/png": "[encoded data removed]",
      "text/plain": [
       "<Figure size 1440x720 with 1 Axes>"
      ]
     },
     "metadata": {
      "needs_background": "light"
     },
     "output_type": "display_data"
    }
   ],
   "source": [
    "sns.countplot(data=df, x='balcony')\n",
    "plt.title('count of balcony')"
   ]
  },
  {
   "cell_type": "markdown",
   "metadata": {},
   "source": [
    "### Price"
   ]
  },
  {
   "cell_type": "code",
   "execution_count": 399,
   "metadata": {},
   "outputs": [
    {
     "data": {
      "text/plain": [
       "<seaborn.axisgrid.FacetGrid at 0x1dd50cb5af0>"
      ]
     },
     "execution_count": 399,
     "metadata": {},
     "output_type": "execute_result"
    },
    {
     "data": {
      "image/png": "[encoded data removed]",
      "text/plain": [
       "<Figure size 360x360 with 1 Axes>"
      ]
     },
     "metadata": {
      "needs_background": "light"
     },
     "output_type": "display_data"
    }
   ],
   "source": [
    "sns.displot(data=df, x='price')\n",
    "# most of the values are within 500"
   ]
  },
  {
   "cell_type": "markdown",
   "metadata": {},
   "source": [
    "# Data cleaning"
   ]
  },
  {
   "cell_type": "code",
   "execution_count": 400,
   "metadata": {},
   "outputs": [
    {
     "data": {
      "text/html": [
       "<div>\n",
       "<style scoped>\n",
       "    .dataframe tbody tr th:only-of-type {\n",
       "        vertical-align: middle;\n",
       "    }\n",
       "\n",
       "    .dataframe tbody tr th {\n",
       "        vertical-align: top;\n",
       "    }\n",
       "\n",
       "    .dataframe thead th {\n",
       "        text-align: right;\n",
       "    }\n",
       "</style>\n",
       "<table border=\"1\" class=\"dataframe\">\n",
       "  <thead>\n",
       "    <tr style=\"text-align: right;\">\n",
       "      <th></th>\n",
       "      <th>location</th>\n",
       "      <th>total_sqft</th>\n",
       "      <th>bath</th>\n",
       "      <th>price</th>\n",
       "      <th>rooms</th>\n",
       "    </tr>\n",
       "  </thead>\n",
       "  <tbody>\n",
       "    <tr>\n",
       "      <th>0</th>\n",
       "      <td>Electronic City Phase II</td>\n",
       "      <td>1056</td>\n",
       "      <td>2.0</td>\n",
       "      <td>39.07</td>\n",
       "      <td>2.0</td>\n",
       "    </tr>\n",
       "    <tr>\n",
       "      <th>1</th>\n",
       "      <td>Chikka Tirupathi</td>\n",
       "      <td>2600</td>\n",
       "      <td>5.0</td>\n",
       "      <td>120.00</td>\n",
       "      <td>4.0</td>\n",
       "    </tr>\n",
       "    <tr>\n",
       "      <th>2</th>\n",
       "      <td>Uttarahalli</td>\n",
       "      <td>1440</td>\n",
       "      <td>2.0</td>\n",
       "      <td>62.00</td>\n",
       "      <td>3.0</td>\n",
       "    </tr>\n",
       "    <tr>\n",
       "      <th>3</th>\n",
       "      <td>Lingadheeranahalli</td>\n",
       "      <td>1521</td>\n",
       "      <td>3.0</td>\n",
       "      <td>95.00</td>\n",
       "      <td>3.0</td>\n",
       "    </tr>\n",
       "    <tr>\n",
       "      <th>4</th>\n",
       "      <td>Kothanur</td>\n",
       "      <td>1200</td>\n",
       "      <td>2.0</td>\n",
       "      <td>51.00</td>\n",
       "      <td>2.0</td>\n",
       "    </tr>\n",
       "  </tbody>\n",
       "</table>\n",
       "</div>"
      ],
      "text/plain": [
       "                   location total_sqft  bath   price  rooms\n",
       "0  Electronic City Phase II       1056   2.0   39.07    2.0\n",
       "1          Chikka Tirupathi       2600   5.0  120.00    4.0\n",
       "2               Uttarahalli       1440   2.0   62.00    3.0\n",
       "3        Lingadheeranahalli       1521   3.0   95.00    3.0\n",
       "4                  Kothanur       1200   2.0   51.00    2.0"
      ]
     },
     "execution_count": 400,
     "metadata": {},
     "output_type": "execute_result"
    }
   ],
   "source": [
    "org_df = df.copy() # making a copy for when we need it\n",
    "\n",
    "# creating a new feature since size has different labels with the same meaning\n",
    "df['rooms'] = df['size'].map(lambda x: int(x.split(' ')[0]), na_action='ignore')\n",
    "\n",
    "# dropping columns that has high missing values and are not significant\n",
    "df.drop(['area_type', 'society', 'balcony', 'availability', 'size'], axis=1, inplace=True)\n",
    "df.head()"
   ]
  },
  {
   "cell_type": "code",
   "execution_count": 401,
   "metadata": {},
   "outputs": [
    {
     "data": {
      "text/plain": [
       "location       1\n",
       "total_sqft     0\n",
       "bath          73\n",
       "price          0\n",
       "rooms         16\n",
       "dtype: int64"
      ]
     },
     "execution_count": 401,
     "metadata": {},
     "output_type": "execute_result"
    }
   ],
   "source": [
    "df.isnull().sum()\n",
    "# we could impute these values with median"
   ]
  },
  {
   "cell_type": "code",
   "execution_count": 402,
   "metadata": {},
   "outputs": [
    {
     "data": {
      "text/plain": [
       "location      0\n",
       "total_sqft    0\n",
       "bath          0\n",
       "price         0\n",
       "rooms         0\n",
       "dtype: int64"
      ]
     },
     "execution_count": 402,
     "metadata": {},
     "output_type": "execute_result"
    }
   ],
   "source": [
    "df['rooms'] = df['rooms'].fillna(df['rooms'].median())\n",
    "df['bath'] = df['bath'].fillna(df['bath'].median())\n",
    "df.dropna(inplace=True)\n",
    "df.isnull().sum()"
   ]
  },
  {
   "cell_type": "code",
   "execution_count": 403,
   "metadata": {},
   "outputs": [
    {
     "data": {
      "text/html": [
       "<div>\n",
       "<style scoped>\n",
       "    .dataframe tbody tr th:only-of-type {\n",
       "        vertical-align: middle;\n",
       "    }\n",
       "\n",
       "    .dataframe tbody tr th {\n",
       "        vertical-align: top;\n",
       "    }\n",
       "\n",
       "    .dataframe thead th {\n",
       "        text-align: right;\n",
       "    }\n",
       "</style>\n",
       "<table border=\"1\" class=\"dataframe\">\n",
       "  <thead>\n",
       "    <tr style=\"text-align: right;\">\n",
       "      <th></th>\n",
       "      <th>location</th>\n",
       "      <th>total_sqft</th>\n",
       "      <th>bath</th>\n",
       "      <th>price</th>\n",
       "      <th>rooms</th>\n",
       "    </tr>\n",
       "  </thead>\n",
       "  <tbody>\n",
       "    <tr>\n",
       "      <th>0</th>\n",
       "      <td>Electronic City Phase II</td>\n",
       "      <td>1056</td>\n",
       "      <td>2.0</td>\n",
       "      <td>39.07</td>\n",
       "      <td>2.0</td>\n",
       "    </tr>\n",
       "    <tr>\n",
       "      <th>1</th>\n",
       "      <td>Chikka Tirupathi</td>\n",
       "      <td>2600</td>\n",
       "      <td>5.0</td>\n",
       "      <td>120.00</td>\n",
       "      <td>4.0</td>\n",
       "    </tr>\n",
       "    <tr>\n",
       "      <th>2</th>\n",
       "      <td>Uttarahalli</td>\n",
       "      <td>1440</td>\n",
       "      <td>2.0</td>\n",
       "      <td>62.00</td>\n",
       "      <td>3.0</td>\n",
       "    </tr>\n",
       "    <tr>\n",
       "      <th>3</th>\n",
       "      <td>Lingadheeranahalli</td>\n",
       "      <td>1521</td>\n",
       "      <td>3.0</td>\n",
       "      <td>95.00</td>\n",
       "      <td>3.0</td>\n",
       "    </tr>\n",
       "    <tr>\n",
       "      <th>4</th>\n",
       "      <td>Kothanur</td>\n",
       "      <td>1200</td>\n",
       "      <td>2.0</td>\n",
       "      <td>51.00</td>\n",
       "      <td>2.0</td>\n",
       "    </tr>\n",
       "  </tbody>\n",
       "</table>\n",
       "</div>"
      ],
      "text/plain": [
       "                   location total_sqft  bath   price  rooms\n",
       "0  Electronic City Phase II       1056   2.0   39.07    2.0\n",
       "1          Chikka Tirupathi       2600   5.0  120.00    4.0\n",
       "2               Uttarahalli       1440   2.0   62.00    3.0\n",
       "3        Lingadheeranahalli       1521   3.0   95.00    3.0\n",
       "4                  Kothanur       1200   2.0   51.00    2.0"
      ]
     },
     "execution_count": 403,
     "metadata": {},
     "output_type": "execute_result"
    }
   ],
   "source": [
    "df.head()"
   ]
  },
  {
   "cell_type": "code",
   "execution_count": 404,
   "metadata": {},
   "outputs": [
    {
     "data": {
      "text/plain": [
       "location      Yelahanka\n",
       "total_sqft       2475.0\n",
       "bath                4.0\n",
       "price             186.0\n",
       "rooms               4.0\n",
       "Name: 30, dtype: object"
      ]
     },
     "execution_count": 404,
     "metadata": {},
     "output_type": "execute_result"
    }
   ],
   "source": [
    "# converting range values to single float\n",
    "def convert_num(x):\n",
    "    tokens = str(x).split('-')\n",
    "    if len(tokens)==2:\n",
    "        return (float(tokens[0])+float(tokens[1]))/2\n",
    "    if x.isnumeric():\n",
    "        return float(x)\n",
    "    else:\n",
    "        return None\n",
    "\n",
    "df['total_sqft'] = df['total_sqft'].map(convert_num)   \n",
    "df.loc[30] # this index had the value as a range"
   ]
  },
  {
   "cell_type": "code",
   "execution_count": 405,
   "metadata": {},
   "outputs": [
    {
     "data": {
      "text/plain": [
       "Whitefield                         540\n",
       "Sarjapur  Road                     399\n",
       "Electronic City                    302\n",
       "Kanakpura Road                     273\n",
       "Thanisandra                        234\n",
       "                                  ... \n",
       "Viviani Road                         1\n",
       "Narayanappa Layout                   1\n",
       "Nagarbhavi Garden Villas Layout      1\n",
       "LIC Colony                           1\n",
       "SARJAPUR BAGALUR ROAD                1\n",
       "Name: location, Length: 1305, dtype: int64"
      ]
     },
     "execution_count": 405,
     "metadata": {},
     "output_type": "execute_result"
    }
   ],
   "source": [
    "# this feature has high cardinatlity\n",
    "df['location'].value_counts()"
   ]
  },
  {
   "cell_type": "code",
   "execution_count": 406,
   "metadata": {},
   "outputs": [
    {
     "name": "stdout",
     "output_type": "stream",
     "text": [
      "Total number of unique values in location: 1294\n",
      "Number of location where the count is < 10: 1053\n"
     ]
    }
   ],
   "source": [
    "df['location'] = df['location'].map(lambda x: x.strip())\n",
    "location = df['location'].value_counts(sort=True, ascending=False)\n",
    "print(f'Total number of unique values in location: {len(location)}')\n",
    "print(f'Number of location where the count is < 10: {len(location[location<=10])}')"
   ]
  },
  {
   "cell_type": "code",
   "execution_count": 407,
   "metadata": {},
   "outputs": [
    {
     "data": {
      "text/plain": [
       "242"
      ]
     },
     "execution_count": 407,
     "metadata": {},
     "output_type": "execute_result"
    }
   ],
   "source": [
    "# reducing the cardinality of location feature by labeling less frequent data as other\n",
    "location_less_10 = location[location<=10]\n",
    "df['location'] = df['location'].map(lambda x: 'other' if x in location_less_10 else x)\n",
    "df['location'].nunique()"
   ]
  },
  {
   "cell_type": "code",
   "execution_count": 408,
   "metadata": {},
   "outputs": [
    {
     "name": "stdout",
     "output_type": "stream",
     "text": [
      "count    1.331900e+04\n",
      "mean     3.802636e+06\n",
      "std      3.639627e+06\n",
      "min      2.813333e+05\n",
      "25%      2.166667e+06\n",
      "50%      2.900000e+06\n",
      "75%      4.100000e+06\n",
      "max      7.500000e+07\n",
      "Name: price_per_room, dtype: float64\n",
      "\n",
      "count    1.318600e+04\n",
      "mean     7.907677e+03\n",
      "std      1.067837e+05\n",
      "min      2.678298e+02\n",
      "25%      4.262295e+03\n",
      "50%      5.419778e+03\n",
      "75%      7.294732e+03\n",
      "max      1.200000e+07\n",
      "Name: price_per_sqft, dtype: float64\n"
     ]
    }
   ],
   "source": [
    "# creating new feature which would come handy in outlier detection\n",
    "df['price_per_room'] = df['price']*100000/df['rooms']\n",
    "df['price_per_sqft'] = df['price']*100000/df['total_sqft']\n",
    "print(df['price_per_room'].describe(), df['price_per_sqft'].describe(), sep='\\n\\n')"
   ]
  },
  {
   "cell_type": "code",
   "execution_count": 409,
   "metadata": {},
   "outputs": [
    {
     "data": {
      "text/plain": [
       "(11206, 7)"
      ]
     },
     "execution_count": 409,
     "metadata": {},
     "output_type": "execute_result"
    }
   ],
   "source": [
    "# removing outliers based on price_per_room\n",
    "from scipy.stats import zscore\n",
    "\n",
    "def remove_outliers(df):\n",
    "    ex_ind = np.array([])\n",
    "    for loc, loc_df in df.groupby('location'):\n",
    "        z = np.abs(zscore(loc_df['price_per_room']))\n",
    "        cur_df = loc_df[z>1]\n",
    "        ex_ind = np.append(ex_ind, cur_df.index.values)\n",
    "    return df.drop(index=ex_ind)\n",
    "\n",
    "df2 = remove_outliers(df)\n",
    "df2.shape"
   ]
  },
  {
   "cell_type": "code",
   "execution_count": 410,
   "metadata": {},
   "outputs": [
    {
     "data": {
      "text/plain": [
       "count    1.120600e+04\n",
       "mean     3.252532e+06\n",
       "std      1.796478e+06\n",
       "min      6.125000e+05\n",
       "25%      2.166667e+06\n",
       "50%      2.800000e+06\n",
       "75%      3.766667e+06\n",
       "max      3.125000e+07\n",
       "Name: price_per_room, dtype: float64"
      ]
     },
     "execution_count": 410,
     "metadata": {},
     "output_type": "execute_result"
    }
   ],
   "source": [
    "df2['price_per_room'].describe()"
   ]
  },
  {
   "cell_type": "code",
   "execution_count": 411,
   "metadata": {},
   "outputs": [
    {
     "data": {
      "text/html": [
       "<div>\n",
       "<style scoped>\n",
       "    .dataframe tbody tr th:only-of-type {\n",
       "        vertical-align: middle;\n",
       "    }\n",
       "\n",
       "    .dataframe tbody tr th {\n",
       "        vertical-align: top;\n",
       "    }\n",
       "\n",
       "    .dataframe thead th {\n",
       "        text-align: right;\n",
       "    }\n",
       "</style>\n",
       "<table border=\"1\" class=\"dataframe\">\n",
       "  <thead>\n",
       "    <tr style=\"text-align: right;\">\n",
       "      <th></th>\n",
       "      <th>location</th>\n",
       "      <th>total_sqft</th>\n",
       "      <th>bath</th>\n",
       "      <th>price</th>\n",
       "      <th>rooms</th>\n",
       "      <th>price_per_room</th>\n",
       "      <th>price_per_sqft</th>\n",
       "    </tr>\n",
       "  </thead>\n",
       "  <tbody>\n",
       "    <tr>\n",
       "      <th>0</th>\n",
       "      <td>Electronic City Phase II</td>\n",
       "      <td>1056.0</td>\n",
       "      <td>2.0</td>\n",
       "      <td>39.07</td>\n",
       "      <td>2.0</td>\n",
       "      <td>1.953500e+06</td>\n",
       "      <td>3699.810606</td>\n",
       "    </tr>\n",
       "    <tr>\n",
       "      <th>1</th>\n",
       "      <td>Chikka Tirupathi</td>\n",
       "      <td>2600.0</td>\n",
       "      <td>5.0</td>\n",
       "      <td>120.00</td>\n",
       "      <td>4.0</td>\n",
       "      <td>3.000000e+06</td>\n",
       "      <td>4615.384615</td>\n",
       "    </tr>\n",
       "    <tr>\n",
       "      <th>2</th>\n",
       "      <td>Uttarahalli</td>\n",
       "      <td>1440.0</td>\n",
       "      <td>2.0</td>\n",
       "      <td>62.00</td>\n",
       "      <td>3.0</td>\n",
       "      <td>2.066667e+06</td>\n",
       "      <td>4305.555556</td>\n",
       "    </tr>\n",
       "    <tr>\n",
       "      <th>3</th>\n",
       "      <td>Lingadheeranahalli</td>\n",
       "      <td>1521.0</td>\n",
       "      <td>3.0</td>\n",
       "      <td>95.00</td>\n",
       "      <td>3.0</td>\n",
       "      <td>3.166667e+06</td>\n",
       "      <td>6245.890861</td>\n",
       "    </tr>\n",
       "    <tr>\n",
       "      <th>4</th>\n",
       "      <td>Kothanur</td>\n",
       "      <td>1200.0</td>\n",
       "      <td>2.0</td>\n",
       "      <td>51.00</td>\n",
       "      <td>2.0</td>\n",
       "      <td>2.550000e+06</td>\n",
       "      <td>4250.000000</td>\n",
       "    </tr>\n",
       "  </tbody>\n",
       "</table>\n",
       "</div>"
      ],
      "text/plain": [
       "                   location  total_sqft  bath   price  rooms  price_per_room  \\\n",
       "0  Electronic City Phase II      1056.0   2.0   39.07    2.0    1.953500e+06   \n",
       "1          Chikka Tirupathi      2600.0   5.0  120.00    4.0    3.000000e+06   \n",
       "2               Uttarahalli      1440.0   2.0   62.00    3.0    2.066667e+06   \n",
       "3        Lingadheeranahalli      1521.0   3.0   95.00    3.0    3.166667e+06   \n",
       "4                  Kothanur      1200.0   2.0   51.00    2.0    2.550000e+06   \n",
       "\n",
       "   price_per_sqft  \n",
       "0     3699.810606  \n",
       "1     4615.384615  \n",
       "2     4305.555556  \n",
       "3     6245.890861  \n",
       "4     4250.000000  "
      ]
     },
     "execution_count": 411,
     "metadata": {},
     "output_type": "execute_result"
    }
   ],
   "source": [
    "df2.head()"
   ]
  },
  {
   "cell_type": "code",
   "execution_count": 412,
   "metadata": {},
   "outputs": [
    {
     "data": {
      "text/plain": [
       "6.0"
      ]
     },
     "execution_count": 412,
     "metadata": {},
     "output_type": "execute_result"
    }
   ],
   "source": [
    "# there are outliers in bath as well\n",
    "df2['bath'].quantile(0.97)"
   ]
  },
  {
   "cell_type": "code",
   "execution_count": 413,
   "metadata": {},
   "outputs": [
    {
     "data": {
      "text/plain": [
       "2.0     6237\n",
       "3.0     2803\n",
       "4.0      847\n",
       "1.0      625\n",
       "5.0      336\n",
       "6.0      177\n",
       "7.0       72\n",
       "8.0       49\n",
       "9.0       34\n",
       "10.0      10\n",
       "12.0       6\n",
       "11.0       2\n",
       "Name: bath, dtype: int64"
      ]
     },
     "execution_count": 413,
     "metadata": {},
     "output_type": "execute_result"
    }
   ],
   "source": [
    "# removed outliers which had only one record with bathrooms above 12\n",
    "df2 = df2.drop(index=df2[df2['bath']>12].index)\n",
    "df2['bath'].value_counts()"
   ]
  },
  {
   "cell_type": "code",
   "execution_count": 414,
   "metadata": {},
   "outputs": [
    {
     "data": {
      "text/plain": [
       "count    11198.000000\n",
       "mean         2.721647\n",
       "std          1.155630\n",
       "min          1.000000\n",
       "25%          2.000000\n",
       "50%          3.000000\n",
       "75%          3.000000\n",
       "max         12.000000\n",
       "Name: rooms, dtype: float64"
      ]
     },
     "execution_count": 414,
     "metadata": {},
     "output_type": "execute_result"
    }
   ],
   "source": [
    "df2['rooms'].describe()"
   ]
  },
  {
   "cell_type": "code",
   "execution_count": 415,
   "metadata": {},
   "outputs": [
    {
     "data": {
      "text/plain": [
       "4.0"
      ]
     },
     "execution_count": 415,
     "metadata": {},
     "output_type": "execute_result"
    }
   ],
   "source": [
    "df2['rooms'].quantile(0.9)"
   ]
  },
  {
   "cell_type": "code",
   "execution_count": 416,
   "metadata": {},
   "outputs": [
    {
     "data": {
      "text/plain": [
       "2.0     5010\n",
       "3.0     4129\n",
       "4.0      907\n",
       "1.0      523\n",
       "5.0      258\n",
       "6.0      171\n",
       "7.0       75\n",
       "8.0       69\n",
       "9.0       40\n",
       "10.0      11\n",
       "11.0       4\n",
       "12.0       1\n",
       "Name: rooms, dtype: int64"
      ]
     },
     "execution_count": 416,
     "metadata": {},
     "output_type": "execute_result"
    }
   ],
   "source": [
    "df2['rooms'].value_counts()"
   ]
  },
  {
   "cell_type": "code",
   "execution_count": 417,
   "metadata": {},
   "outputs": [
    {
     "data": {
      "text/plain": [
       "(8051, 7)"
      ]
     },
     "execution_count": 417,
     "metadata": {},
     "output_type": "execute_result"
    }
   ],
   "source": [
    "# removing room outliers per location\n",
    "def remove_room_outliers(df):\n",
    "    drop_ind = np.array([])\n",
    "\n",
    "    for loc, loc_df in df.groupby('location'):\n",
    "        price_by_room = {room: [np.mean(room_df['price_per_sqft']), room_df.shape[0]] for room, room_df in loc_df.groupby('rooms') if room in [1,2,3,4]}\n",
    "\n",
    "        for room, room_df in loc_df.groupby('rooms'):\n",
    "            prev_room = price_by_room.get(room-1)\n",
    "            if prev_room and prev_room[1]>5:\n",
    "                drop_ind = np.append(drop_ind, room_df[(room_df['price_per_sqft']<prev_room[0])].index.values)\n",
    "    return df.drop(index=drop_ind)\n",
    "\n",
    "df3 = remove_room_outliers(df2)\n",
    "df3.shape"
   ]
  },
  {
   "cell_type": "code",
   "execution_count": 418,
   "metadata": {},
   "outputs": [
    {
     "data": {
      "text/plain": [
       "(7882, 7)"
      ]
     },
     "execution_count": 418,
     "metadata": {},
     "output_type": "execute_result"
    }
   ],
   "source": [
    "# dropping rows where bath succeeds rooms by 2\n",
    "df4 = df3[df3['bath']<df3['rooms']+2].dropna()\n",
    "df4.shape"
   ]
  },
  {
   "cell_type": "code",
   "execution_count": 419,
   "metadata": {},
   "outputs": [
    {
     "data": {
      "text/plain": [
       "(7882, 245)"
      ]
     },
     "execution_count": 419,
     "metadata": {},
     "output_type": "execute_result"
    }
   ],
   "source": [
    "# one hot encoding categorical variables\n",
    "data = pd.get_dummies(df4, prefix='', prefix_sep='').drop(['other','price_per_room', 'price_per_sqft'], axis=1)\n",
    "data.shape"
   ]
  },
  {
   "cell_type": "code",
   "execution_count": 420,
   "metadata": {},
   "outputs": [
    {
     "data": {
      "text/plain": [
       "0"
      ]
     },
     "execution_count": 420,
     "metadata": {},
     "output_type": "execute_result"
    }
   ],
   "source": [
    "data.isnull().sum().sum()"
   ]
  },
  {
   "cell_type": "code",
   "execution_count": 421,
   "metadata": {},
   "outputs": [
    {
     "name": "stdout",
     "output_type": "stream",
     "text": [
      "(7882, 244) (7882,)\n"
     ]
    }
   ],
   "source": [
    "# splitting data into target and predictor variables\n",
    "data = data.sample(frac=1).reset_index(drop=True)\n",
    "\n",
    "X = data.drop('price', axis=1, )\n",
    "y = data['price'].values\n",
    "\n",
    "print(X.shape, y.shape)"
   ]
  },
  {
   "cell_type": "code",
   "execution_count": 422,
   "metadata": {},
   "outputs": [],
   "source": [
    "from sklearn.model_selection import train_test_split\n",
    "\n",
    "xtrain, xtest, ytrain, ytest = train_test_split(X, y, train_size=0.8, random_state=200)"
   ]
  },
  {
   "cell_type": "markdown",
   "metadata": {},
   "source": [
    "# Modeling"
   ]
  },
  {
   "cell_type": "code",
   "execution_count": 423,
   "metadata": {},
   "outputs": [],
   "source": [
    "# function to evaluate models\n",
    "from sklearn.model_selection import cross_val_score\n",
    "from sklearn.metrics import mean_squared_error, mean_absolute_error\n",
    "\n",
    "def eval_model(model):\n",
    "    score = cross_val_score(model, xtrain, ytrain, cv=5, n_jobs=-1, scoring='neg_mean_absolute_error')\n",
    "\n",
    "    model.fit(xtrain, ytrain)\n",
    "    ypred = model.predict(xtest)\n",
    "    mse = mean_squared_error(ytest, ypred)\n",
    "    mae = mean_absolute_error(ytest, ypred)\n",
    "    r_square = model.score(xtest, ytest)\n",
    "\n",
    "    print('Cross validation MAE: ', -1*score.mean())\n",
    "    print('MAE: ', mae.mean())\n",
    "    print('RMSE: ', np.sqrt(mse))\n",
    "    print('R_square: ', r_square)\n",
    "    "
   ]
  },
  {
   "cell_type": "code",
   "execution_count": 424,
   "metadata": {},
   "outputs": [
    {
     "name": "stdout",
     "output_type": "stream",
     "text": [
      "Cross validation MAE:  22.3895717831547\n",
      "MAE:  22.35135726683607\n",
      "RMSE:  66.41184240566066\n",
      "R_square:  0.13756074729283962\n"
     ]
    }
   ],
   "source": [
    "from sklearn.linear_model import LinearRegression\n",
    "\n",
    "lr = LinearRegression()\n",
    "eval_model(lr)"
   ]
  },
  {
   "cell_type": "code",
   "execution_count": 425,
   "metadata": {},
   "outputs": [
    {
     "name": "stdout",
     "output_type": "stream",
     "text": [
      "Cross validation MAE:  22.903520818160835\n",
      "MAE:  21.955617966930536\n",
      "RMSE:  36.25659636545333\n",
      "R_square:  0.742953603031463\n"
     ]
    }
   ],
   "source": [
    "from sklearn.ensemble import GradientBoostingRegressor\n",
    "\n",
    "gbr = GradientBoostingRegressor()\n",
    "eval_model(gbr)"
   ]
  },
  {
   "cell_type": "code",
   "execution_count": 426,
   "metadata": {},
   "outputs": [
    {
     "name": "stdout",
     "output_type": "stream",
     "text": [
      "Cross validation MAE:  23.615808798160312\n",
      "MAE:  22.59121521649528\n",
      "RMSE:  37.71543940780658\n",
      "R_square:  0.721852089984133\n"
     ]
    }
   ],
   "source": [
    "from sklearn.ensemble import RandomForestRegressor\n",
    "\n",
    "rf = RandomForestRegressor()\n",
    "eval_model(rf)"
   ]
  },
  {
   "cell_type": "code",
   "execution_count": 427,
   "metadata": {},
   "outputs": [
    {
     "name": "stdout",
     "output_type": "stream",
     "text": [
      "Cross validation MAE:  20.08608714529184\n",
      "MAE:  19.056177834587608\n",
      "RMSE:  32.801156516733144\n",
      "R_square:  0.7896145165433286\n"
     ]
    }
   ],
   "source": [
    "from xgboost import XGBRegressor\n",
    "\n",
    "xgr = XGBRegressor()\n",
    "eval_model(xgr)"
   ]
  },
  {
   "cell_type": "markdown",
   "metadata": {},
   "source": [
    "## Hyper-parameter tuning"
   ]
  },
  {
   "cell_type": "code",
   "execution_count": 428,
   "metadata": {},
   "outputs": [
    {
     "name": "stdout",
     "output_type": "stream",
     "text": [
      "MAE:  18.15231981015009\n",
      "Cross_val:  [0.75768524 0.81170024 0.7402536  0.76909603 0.75106869]\n",
      "r2:  0.8006298281134802\n"
     ]
    }
   ],
   "source": [
    "# manual tuning\n",
    "xgr = XGBRegressor(\n",
    "    max_depth=8,\n",
    "    subsample=1,\n",
    "    min_child_weight=1,\n",
    "    learning_rate=0.4,\n",
    ")\n",
    "xgr.fit(xtrain, ytrain, early_stopping_rounds=20, eval_set=[(xtest, ytest)], verbose=False)\n",
    "ypred = xgr.predict(xtest)\n",
    "print('MAE: ', mean_absolute_error(ytest, ypred))\n",
    "print('Cross_val: ', cross_val_score(xgr, X, y, cv=5))\n",
    "print('r2: ', xgr.score(xtest, ytest))"
   ]
  },
  {
   "cell_type": "code",
   "execution_count": 429,
   "metadata": {},
   "outputs": [],
   "source": [
    "# converting to dmatrix to make training faster\n",
    "import xgboost as xgb\n",
    "\n",
    "dtrain = xgb.DMatrix(xtrain, label=ytrain)\n",
    "dtest = xgb.DMatrix(xtest, label=ytest)"
   ]
  },
  {
   "cell_type": "code",
   "execution_count": 430,
   "metadata": {},
   "outputs": [],
   "source": [
    "import re\n",
    "\n",
    "def objective(trial):\n",
    "    learning_rate = trial.suggest_loguniform('learning_rate', 0.0001, 10.0)\n",
    "    max_depth = trial.suggest_int('max_depth', 2, 10)\n",
    "    reg_alpha = trial.suggest_loguniform('reg_alpha', 0.0001, 10.0)\n",
    "    reg_lambda = trial.suggest_loguniform('reg_lambda', 0.0001, 10.0)\n",
    "\n",
    "    params = {\n",
    "        'learning_rate': learning_rate,\n",
    "        'max_depth': max_depth,\n",
    "        'alpha': reg_alpha,\n",
    "        'lambda': reg_lambda,\n",
    "    }\n",
    "\n",
    "    model = xgb.train(\n",
    "        params,\n",
    "        dtrain,\n",
    "        num_boost_round=100,\n",
    "        evals=[(dtest, 'eval')],\n",
    "        early_stopping_rounds=10,\n",
    "        verbose_eval=0\n",
    "    )\n",
    "\n",
    "    result = model.eval(dtest)\n",
    "    rmse = np.float64(re.search(r'[\\d.]+$', result).group(0))\n",
    "    return rmse"
   ]
  },
  {
   "cell_type": "code",
   "execution_count": 431,
   "metadata": {},
   "outputs": [
    {
     "name": "stderr",
     "output_type": "stream",
     "text": [
      "\u001b[32m[I 2022-01-05 23:20:09,977]\u001b[0m A new study created in memory with name: no-name-af5349cf-0427-41bc-adbe-847f5120af84\u001b[0m\n",
      "\u001b[32m[I 2022-01-05 23:20:10,405]\u001b[0m Trial 0 finished with value: 34.643013 and parameters: {'learning_rate': 0.6578511031586304, 'max_depth': 7, 'reg_alpha': 0.00016590423821730642, 'reg_lambda': 0.003984847318368059}. Best is trial 0 with value: 34.643013.\u001b[0m\n",
      "\u001b[32m[I 2022-01-05 23:20:11,539]\u001b[0m Trial 1 finished with value: 37.099274 and parameters: {'learning_rate': 0.02362433824843256, 'max_depth': 8, 'reg_alpha': 0.11245602764204676, 'reg_lambda': 0.01232531276661543}. Best is trial 0 with value: 34.643013.\u001b[0m\n",
      "\u001b[32m[I 2022-01-05 23:20:12,821]\u001b[0m Trial 2 finished with value: 84.860931 and parameters: {'learning_rate': 0.003743001644250395, 'max_depth': 9, 'reg_alpha': 0.21956918611075604, 'reg_lambda': 0.02169917737101544}. Best is trial 0 with value: 34.643013.\u001b[0m\n",
      "\u001b[32m[I 2022-01-05 23:20:12,909]\u001b[0m Trial 3 finished with value: 205290704.0 and parameters: {'learning_rate': 4.731071558902764, 'max_depth': 5, 'reg_alpha': 0.46942404961129924, 'reg_lambda': 0.7992552189494898}. Best is trial 0 with value: 34.643013.\u001b[0m\n",
      "\u001b[32m[I 2022-01-05 23:20:13,674]\u001b[0m Trial 4 finished with value: 100.001312 and parameters: {'learning_rate': 0.0018799439056795561, 'max_depth': 5, 'reg_alpha': 2.7219780310351975, 'reg_lambda': 0.00033298539596392874}. Best is trial 0 with value: 34.643013.\u001b[0m\n",
      "\u001b[32m[I 2022-01-05 23:20:13,766]\u001b[0m Trial 5 finished with value: 315102848.0 and parameters: {'learning_rate': 4.85451612073438, 'max_depth': 5, 'reg_alpha': 0.0026159642776542756, 'reg_lambda': 0.0011327319962765106}. Best is trial 0 with value: 34.643013.\u001b[0m\n",
      "\u001b[32m[I 2022-01-05 23:20:14,522]\u001b[0m Trial 6 finished with value: 77.788109 and parameters: {'learning_rate': 0.004945930245548922, 'max_depth': 5, 'reg_alpha': 0.00027151409850593923, 'reg_lambda': 0.057438443178002535}. Best is trial 0 with value: 34.643013.\u001b[0m\n",
      "\u001b[32m[I 2022-01-05 23:20:15,517]\u001b[0m Trial 7 finished with value: 38.111202 and parameters: {'learning_rate': 0.02153416330911001, 'max_depth': 7, 'reg_alpha': 0.6178555679260386, 'reg_lambda': 0.000173555590836944}. Best is trial 0 with value: 34.643013.\u001b[0m\n",
      "\u001b[32m[I 2022-01-05 23:20:16,168]\u001b[0m Trial 8 finished with value: 78.801552 and parameters: {'learning_rate': 0.005018859162737782, 'max_depth': 4, 'reg_alpha': 0.10031044381582847, 'reg_lambda': 4.9717288947638165}. Best is trial 0 with value: 34.643013.\u001b[0m\n",
      "\u001b[32m[I 2022-01-05 23:20:16,875]\u001b[0m Trial 9 finished with value: 66.570786 and parameters: {'learning_rate': 0.007635527025626601, 'max_depth': 3, 'reg_alpha': 0.00039897025209738085, 'reg_lambda': 6.4101425262669185}. Best is trial 0 with value: 34.643013.\u001b[0m\n",
      "\u001b[32m[I 2022-01-05 23:20:18,965]\u001b[0m Trial 10 finished with value: 116.949989 and parameters: {'learning_rate': 0.00010263853214438722, 'max_depth': 10, 'reg_alpha': 0.007147237078092515, 'reg_lambda': 0.002220116580196289}. Best is trial 0 with value: 34.643013.\u001b[0m\n",
      "\u001b[32m[I 2022-01-05 23:20:20,323]\u001b[0m Trial 11 finished with value: 33.771191 and parameters: {'learning_rate': 0.30420140078945346, 'max_depth': 8, 'reg_alpha': 0.017531533317195404, 'reg_lambda': 0.013776328045845358}. Best is trial 11 with value: 33.771191.\u001b[0m\n",
      "\u001b[32m[I 2022-01-05 23:20:21,324]\u001b[0m Trial 12 finished with value: 33.929226 and parameters: {'learning_rate': 0.3979661393670692, 'max_depth': 7, 'reg_alpha': 0.009508415327428042, 'reg_lambda': 0.24554733896553818}. Best is trial 11 with value: 33.771191.\u001b[0m\n",
      "\u001b[32m[I 2022-01-05 23:20:22,267]\u001b[0m Trial 13 finished with value: 32.707932 and parameters: {'learning_rate': 0.3604343008636449, 'max_depth': 8, 'reg_alpha': 0.006636454481800082, 'reg_lambda': 0.22156874915756744}. Best is trial 13 with value: 32.707932.\u001b[0m\n",
      "\u001b[32m[I 2022-01-05 23:20:23,143]\u001b[0m Trial 14 finished with value: 34.073292 and parameters: {'learning_rate': 0.28909863794781976, 'max_depth': 9, 'reg_alpha': 0.002249852343492216, 'reg_lambda': 0.1651976915153695}. Best is trial 13 with value: 32.707932.\u001b[0m\n",
      "\u001b[32m[I 2022-01-05 23:20:24,428]\u001b[0m Trial 15 finished with value: 32.249313 and parameters: {'learning_rate': 0.14916586463611342, 'max_depth': 10, 'reg_alpha': 0.028128137088256122, 'reg_lambda': 0.8918602755119253}. Best is trial 15 with value: 32.249313.\u001b[0m\n",
      "\u001b[32m[I 2022-01-05 23:20:25,697]\u001b[0m Trial 16 finished with value: 32.793476 and parameters: {'learning_rate': 0.09318572490934769, 'max_depth': 10, 'reg_alpha': 0.04296438206479648, 'reg_lambda': 1.3704058006273212}. Best is trial 15 with value: 32.249313.\u001b[0m\n",
      "\u001b[32m[I 2022-01-05 23:20:26,137]\u001b[0m Trial 17 finished with value: 40.138336 and parameters: {'learning_rate': 1.4456695216496271, 'max_depth': 9, 'reg_alpha': 0.0013042035513954886, 'reg_lambda': 0.888889847854978}. Best is trial 15 with value: 32.249313.\u001b[0m\n",
      "\u001b[32m[I 2022-01-05 23:20:26,625]\u001b[0m Trial 18 finished with value: 38.464378 and parameters: {'learning_rate': 0.06172525603560762, 'max_depth': 2, 'reg_alpha': 6.213136736077055, 'reg_lambda': 0.14038102304730768}. Best is trial 15 with value: 32.249313.\u001b[0m\n",
      "\u001b[32m[I 2022-01-05 23:20:26,880]\u001b[0m Trial 19 finished with value: 43.29575 and parameters: {'learning_rate': 1.6598491151041264, 'max_depth': 10, 'reg_alpha': 0.05050949036019789, 'reg_lambda': 2.0367505744561067}. Best is trial 15 with value: 32.249313.\u001b[0m\n",
      "\u001b[32m[I 2022-01-05 23:20:27,935]\u001b[0m Trial 20 finished with value: 33.929291 and parameters: {'learning_rate': 0.1283020014658271, 'max_depth': 8, 'reg_alpha': 0.0008429442911982417, 'reg_lambda': 0.3123479469886689}. Best is trial 15 with value: 32.249313.\u001b[0m\n",
      "\u001b[32m[I 2022-01-05 23:20:29,584]\u001b[0m Trial 21 finished with value: 32.895981 and parameters: {'learning_rate': 0.08468965115932561, 'max_depth': 10, 'reg_alpha': 0.03655533968610621, 'reg_lambda': 1.2633010418989998}. Best is trial 15 with value: 32.249313.\u001b[0m\n",
      "\u001b[32m[I 2022-01-05 23:20:30,753]\u001b[0m Trial 22 finished with value: 32.530304 and parameters: {'learning_rate': 0.13252906007361887, 'max_depth': 9, 'reg_alpha': 0.006018189931166615, 'reg_lambda': 2.7758831922337057}. Best is trial 15 with value: 32.249313.\u001b[0m\n",
      "\u001b[32m[I 2022-01-05 23:20:30,952]\u001b[0m Trial 23 finished with value: 39.505409 and parameters: {'learning_rate': 1.4687147826258509, 'max_depth': 9, 'reg_alpha': 0.007158436763166009, 'reg_lambda': 3.4825041671500347}. Best is trial 15 with value: 32.249313.\u001b[0m\n",
      "\u001b[32m[I 2022-01-05 23:20:32,202]\u001b[0m Trial 24 finished with value: 35.334785 and parameters: {'learning_rate': 0.03079897878893268, 'max_depth': 8, 'reg_alpha': 0.00492730938856011, 'reg_lambda': 0.48199510197473355}. Best is trial 15 with value: 32.249313.\u001b[0m\n",
      "\u001b[32m[I 2022-01-05 23:20:32,685]\u001b[0m Trial 25 finished with value: 35.109756 and parameters: {'learning_rate': 0.20497854080349198, 'max_depth': 6, 'reg_alpha': 0.0007412366066180643, 'reg_lambda': 0.04821416467691413}. Best is trial 15 with value: 32.249313.\u001b[0m\n",
      "\u001b[32m[I 2022-01-05 23:20:33,317]\u001b[0m Trial 26 finished with value: 34.032394 and parameters: {'learning_rate': 0.6261471517386007, 'max_depth': 9, 'reg_alpha': 0.02048555734049893, 'reg_lambda': 0.09371139428892926}. Best is trial 15 with value: 32.249313.\u001b[0m\n",
      "\u001b[32m[I 2022-01-05 23:20:33,492]\u001b[0m Trial 27 finished with value: 1142295756800.0 and parameters: {'learning_rate': 9.281578436437458, 'max_depth': 10, 'reg_alpha': 0.01274837094757056, 'reg_lambda': 9.285111301314437}. Best is trial 15 with value: 32.249313.\u001b[0m\n",
      "\u001b[32m[I 2022-01-05 23:20:34,587]\u001b[0m Trial 28 finished with value: 48.791458 and parameters: {'learning_rate': 0.012311289427972303, 'max_depth': 7, 'reg_alpha': 0.003200170721298928, 'reg_lambda': 2.9305698507175824}. Best is trial 15 with value: 32.249313.\u001b[0m\n",
      "\u001b[32m[I 2022-01-05 23:20:35,208]\u001b[0m Trial 29 finished with value: 33.619492 and parameters: {'learning_rate': 0.7131132904685833, 'max_depth': 6, 'reg_alpha': 0.00019701209142652492, 'reg_lambda': 0.39053761128603026}. Best is trial 15 with value: 32.249313.\u001b[0m\n",
      "\u001b[32m[I 2022-01-05 23:20:36,422]\u001b[0m Trial 30 finished with value: 111.396744 and parameters: {'learning_rate': 0.0006397306815436659, 'max_depth': 8, 'reg_alpha': 0.07313464388202963, 'reg_lambda': 0.696283712954033}. Best is trial 15 with value: 32.249313.\u001b[0m\n",
      "\u001b[32m[I 2022-01-05 23:20:37,785]\u001b[0m Trial 31 finished with value: 33.020119 and parameters: {'learning_rate': 0.07179552766276429, 'max_depth': 10, 'reg_alpha': 0.022858894654956545, 'reg_lambda': 1.8713121284248762}. Best is trial 15 with value: 32.249313.\u001b[0m\n",
      "\u001b[32m[I 2022-01-05 23:20:39,039]\u001b[0m Trial 32 finished with value: 32.406029 and parameters: {'learning_rate': 0.14515360014246975, 'max_depth': 9, 'reg_alpha': 0.17478076824073877, 'reg_lambda': 1.3559844363619533}. Best is trial 15 with value: 32.249313.\u001b[0m\n",
      "\u001b[32m[I 2022-01-05 23:20:40,267]\u001b[0m Trial 33 finished with value: 33.50597 and parameters: {'learning_rate': 0.0438142914863932, 'max_depth': 9, 'reg_alpha': 0.21601261836746147, 'reg_lambda': 2.5190721850912716}. Best is trial 15 with value: 32.249313.\u001b[0m\n",
      "\u001b[32m[I 2022-01-05 23:20:41,315]\u001b[0m Trial 34 finished with value: 33.387627 and parameters: {'learning_rate': 0.1568909570326329, 'max_depth': 8, 'reg_alpha': 0.19750169065759965, 'reg_lambda': 0.5184387793044319}. Best is trial 15 with value: 32.249313.\u001b[0m\n",
      "\u001b[32m[I 2022-01-05 23:20:41,634]\u001b[0m Trial 35 finished with value: 34.80241 and parameters: {'learning_rate': 0.6461345822548356, 'max_depth': 9, 'reg_alpha': 0.5362850644002105, 'reg_lambda': 0.006617718380187863}. Best is trial 15 with value: 32.249313.\u001b[0m\n",
      "\u001b[32m[I 2022-01-05 23:20:42,887]\u001b[0m Trial 36 finished with value: 36.036858 and parameters: {'learning_rate': 0.026970583351220486, 'max_depth': 9, 'reg_alpha': 0.9680085438872599, 'reg_lambda': 0.19994562057585374}. Best is trial 15 with value: 32.249313.\u001b[0m\n",
      "\u001b[32m[I 2022-01-05 23:20:43,940]\u001b[0m Trial 37 finished with value: 33.584854 and parameters: {'learning_rate': 0.17783239099838322, 'max_depth': 8, 'reg_alpha': 0.16403733588006048, 'reg_lambda': 0.08869444355546588}. Best is trial 15 with value: 32.249313.\u001b[0m\n",
      "\u001b[32m[I 2022-01-05 23:20:44,071]\u001b[0m Trial 38 finished with value: 21096.5 and parameters: {'learning_rate': 2.6255469045344557, 'max_depth': 7, 'reg_alpha': 0.0017315726571521806, 'reg_lambda': 0.9514113101683888}. Best is trial 15 with value: 32.249313.\u001b[0m\n",
      "\u001b[32m[I 2022-01-05 23:20:45,650]\u001b[0m Trial 39 finished with value: 39.436054 and parameters: {'learning_rate': 0.018399917498273233, 'max_depth': 10, 'reg_alpha': 0.004213575984119916, 'reg_lambda': 0.03040035891882892}. Best is trial 15 with value: 32.249313.\u001b[0m\n",
      "\u001b[32m[I 2022-01-05 23:20:46,606]\u001b[0m Trial 40 finished with value: 32.109406 and parameters: {'learning_rate': 0.45441870839382853, 'max_depth': 9, 'reg_alpha': 1.8452382728975985, 'reg_lambda': 4.701939301846753}. Best is trial 40 with value: 32.109406.\u001b[0m\n",
      "\u001b[32m[I 2022-01-05 23:20:47,597]\u001b[0m Trial 41 finished with value: 31.812469 and parameters: {'learning_rate': 0.4486480680933372, 'max_depth': 9, 'reg_alpha': 2.5619993106726455, 'reg_lambda': 5.7007510445831215}. Best is trial 41 with value: 31.812469.\u001b[0m\n",
      "\u001b[32m[I 2022-01-05 23:20:48,428]\u001b[0m Trial 42 finished with value: 33.330372 and parameters: {'learning_rate': 0.9230034902313182, 'max_depth': 9, 'reg_alpha': 1.4153453746976243, 'reg_lambda': 5.677853877470832}. Best is trial 41 with value: 31.812469.\u001b[0m\n",
      "\u001b[32m[I 2022-01-05 23:20:49,733]\u001b[0m Trial 43 finished with value: 33.663338 and parameters: {'learning_rate': 0.04826177750907287, 'max_depth': 10, 'reg_alpha': 8.78746683067024, 'reg_lambda': 9.067809342529358}. Best is trial 41 with value: 31.812469.\u001b[0m\n",
      "\u001b[32m[I 2022-01-05 23:20:50,839]\u001b[0m Trial 44 finished with value: 32.338909 and parameters: {'learning_rate': 0.4125751706841356, 'max_depth': 9, 'reg_alpha': 2.448501730249388, 'reg_lambda': 4.292547379801882}. Best is trial 41 with value: 31.812469.\u001b[0m\n",
      "\u001b[32m[I 2022-01-05 23:20:50,933]\u001b[0m Trial 45 finished with value: 4190371.0 and parameters: {'learning_rate': 3.6405982381889226, 'max_depth': 4, 'reg_alpha': 3.0837582916953195, 'reg_lambda': 4.28513408018834}. Best is trial 41 with value: 31.812469.\u001b[0m\n",
      "\u001b[32m[I 2022-01-05 23:20:51,762]\u001b[0m Trial 46 finished with value: 32.273071 and parameters: {'learning_rate': 0.47607768278458, 'max_depth': 7, 'reg_alpha': 2.236303914719751, 'reg_lambda': 6.073283936801998}. Best is trial 41 with value: 31.812469.\u001b[0m\n",
      "\u001b[32m[I 2022-01-05 23:20:52,697]\u001b[0m Trial 47 finished with value: 31.999821 and parameters: {'learning_rate': 0.4091922422461898, 'max_depth': 7, 'reg_alpha': 2.6396342380665097, 'reg_lambda': 9.93220323295436}. Best is trial 41 with value: 31.812469.\u001b[0m\n",
      "\u001b[32m[I 2022-01-05 23:20:53,632]\u001b[0m Trial 48 finished with value: 32.730625 and parameters: {'learning_rate': 0.2657691188650525, 'max_depth': 7, 'reg_alpha': 3.5504200921599676, 'reg_lambda': 9.146641689324104}. Best is trial 41 with value: 31.812469.\u001b[0m\n",
      "\u001b[32m[I 2022-01-05 23:20:54,048]\u001b[0m Trial 49 finished with value: 33.062962 and parameters: {'learning_rate': 1.0379481218488555, 'max_depth': 6, 'reg_alpha': 1.5150727609613046, 'reg_lambda': 7.222389091229255}. Best is trial 41 with value: 31.812469.\u001b[0m\n",
      "\u001b[32m[I 2022-01-05 23:20:54,783]\u001b[0m Trial 50 finished with value: 31.910316 and parameters: {'learning_rate': 0.475176235761918, 'max_depth': 5, 'reg_alpha': 5.359409752774364, 'reg_lambda': 5.574725018421222}. Best is trial 41 with value: 31.812469.\u001b[0m\n",
      "\u001b[32m[I 2022-01-05 23:20:55,515]\u001b[0m Trial 51 finished with value: 31.721067 and parameters: {'learning_rate': 0.5136871044790982, 'max_depth': 5, 'reg_alpha': 6.748368941467777, 'reg_lambda': 5.3731276139667425}. Best is trial 51 with value: 31.721067.\u001b[0m\n",
      "\u001b[32m[I 2022-01-05 23:20:55,780]\u001b[0m Trial 52 finished with value: 50.870647 and parameters: {'learning_rate': 1.8769548832231233, 'max_depth': 5, 'reg_alpha': 4.726988456943011, 'reg_lambda': 0.0005652194399452591}. Best is trial 51 with value: 31.721067.\u001b[0m\n",
      "\u001b[32m[I 2022-01-05 23:20:56,512]\u001b[0m Trial 53 finished with value: 33.52047 and parameters: {'learning_rate': 0.25596201821377257, 'max_depth': 4, 'reg_alpha': 0.38150927708525184, 'reg_lambda': 1.7862181614144892}. Best is trial 51 with value: 31.721067.\u001b[0m\n",
      "\u001b[32m[I 2022-01-05 23:20:56,968]\u001b[0m Trial 54 finished with value: 33.002113 and parameters: {'learning_rate': 0.9054110979232509, 'max_depth': 5, 'reg_alpha': 9.749986304791136, 'reg_lambda': 4.331627441151674}. Best is trial 51 with value: 31.721067.\u001b[0m\n",
      "\u001b[32m[I 2022-01-05 23:20:57,770]\u001b[0m Trial 55 finished with value: 32.949108 and parameters: {'learning_rate': 0.3891683962299418, 'max_depth': 5, 'reg_alpha': 5.7698201084250895, 'reg_lambda': 3.428074937051737}. Best is trial 51 with value: 31.721067.\u001b[0m\n",
      "\u001b[32m[I 2022-01-05 23:20:57,917]\u001b[0m Trial 56 finished with value: 138.574402 and parameters: {'learning_rate': 2.039392189267777, 'max_depth': 6, 'reg_alpha': 1.7394356418156864, 'reg_lambda': 6.138410338847371}. Best is trial 51 with value: 31.721067.\u001b[0m\n",
      "\u001b[32m[I 2022-01-05 23:20:58,065]\u001b[0m Trial 57 finished with value: 36.57375 and parameters: {'learning_rate': 0.5620567939190086, 'max_depth': 4, 'reg_alpha': 0.8856876557229825, 'reg_lambda': 0.00010498658342384998}. Best is trial 51 with value: 31.721067.\u001b[0m\n",
      "\u001b[32m[I 2022-01-05 23:20:58,885]\u001b[0m Trial 58 finished with value: 34.244865 and parameters: {'learning_rate': 0.10002455847294425, 'max_depth': 5, 'reg_alpha': 4.545487215583473, 'reg_lambda': 2.1885754331255427}. Best is trial 51 with value: 31.721067.\u001b[0m\n",
      "\u001b[32m[I 2022-01-05 23:20:59,266]\u001b[0m Trial 59 finished with value: 32.241425 and parameters: {'learning_rate': 1.152306743530077, 'max_depth': 3, 'reg_alpha': 1.1631257188943582, 'reg_lambda': 0.7928932147353208}. Best is trial 51 with value: 31.721067.\u001b[0m\n",
      "\u001b[32m[I 2022-01-05 23:20:59,341]\u001b[0m Trial 60 finished with value: 1539677952.0 and parameters: {'learning_rate': 5.524067829078158, 'max_depth': 2, 'reg_alpha': 1.1027950139714948, 'reg_lambda': 9.433422153699953}. Best is trial 51 with value: 31.721067.\u001b[0m\n",
      "\u001b[32m[I 2022-01-05 23:20:59,762]\u001b[0m Trial 61 finished with value: 36.015282 and parameters: {'learning_rate': 1.3541440225744292, 'max_depth': 3, 'reg_alpha': 7.292154005661691, 'reg_lambda': 1.153402985205994}. Best is trial 51 with value: 31.721067.\u001b[0m\n",
      "\u001b[32m[I 2022-01-05 23:21:00,389]\u001b[0m Trial 62 finished with value: 34.83326 and parameters: {'learning_rate': 0.23234901957422766, 'max_depth': 3, 'reg_alpha': 0.4020084351717975, 'reg_lambda': 0.7917285731582199}. Best is trial 51 with value: 31.721067.\u001b[0m\n",
      "\u001b[32m[I 2022-01-05 23:21:00,810]\u001b[0m Trial 63 finished with value: 35.691654 and parameters: {'learning_rate': 1.0229976365372393, 'max_depth': 2, 'reg_alpha': 0.7750361954049821, 'reg_lambda': 2.8418886217435744}. Best is trial 51 with value: 31.721067.\u001b[0m\n",
      "\u001b[32m[I 2022-01-05 23:21:01,000]\u001b[0m Trial 64 finished with value: 242818.921875 and parameters: {'learning_rate': 3.026170001907869, 'max_depth': 4, 'reg_alpha': 3.3858190916090956, 'reg_lambda': 1.7685340925153932}. Best is trial 51 with value: 31.721067.\u001b[0m\n",
      "\u001b[32m[I 2022-01-05 23:21:01,602]\u001b[0m Trial 65 finished with value: 33.490318 and parameters: {'learning_rate': 0.3163123564775022, 'max_depth': 6, 'reg_alpha': 2.0202834690792355, 'reg_lambda': 4.367464161446358}. Best is trial 51 with value: 31.721067.\u001b[0m\n",
      "\u001b[32m[I 2022-01-05 23:21:02,317]\u001b[0m Trial 66 finished with value: 32.944668 and parameters: {'learning_rate': 0.5085396883109471, 'max_depth': 3, 'reg_alpha': 4.404574953233875, 'reg_lambda': 6.217776008125591}. Best is trial 51 with value: 31.721067.\u001b[0m\n",
      "\u001b[32m[I 2022-01-05 23:21:03,655]\u001b[0m Trial 67 finished with value: 33.350414 and parameters: {'learning_rate': 0.11368811999020575, 'max_depth': 10, 'reg_alpha': 6.411687684291375, 'reg_lambda': 0.5177691217387028}. Best is trial 51 with value: 31.721067.\u001b[0m\n",
      "\u001b[32m[I 2022-01-05 23:21:04,149]\u001b[0m Trial 68 finished with value: 32.979439 and parameters: {'learning_rate': 0.7819141976361343, 'max_depth': 5, 'reg_alpha': 0.08224258337618287, 'reg_lambda': 3.166230301133689}. Best is trial 51 with value: 31.721067.\u001b[0m\n",
      "\u001b[32m[I 2022-01-05 23:21:04,316]\u001b[0m Trial 69 finished with value: 42.555672 and parameters: {'learning_rate': 1.363120390098228, 'max_depth': 8, 'reg_alpha': 1.244175083749025, 'reg_lambda': 0.0017777916456777547}. Best is trial 51 with value: 31.721067.\u001b[0m\n",
      "\u001b[32m[I 2022-01-05 23:21:04,488]\u001b[0m Trial 70 finished with value: 2710437120.0 and parameters: {'learning_rate': 5.733580486231742, 'max_depth': 10, 'reg_alpha': 0.30679433423367997, 'reg_lambda': 1.4114511816148332}. Best is trial 51 with value: 31.721067.\u001b[0m\n",
      "\u001b[32m[I 2022-01-05 23:21:05,046]\u001b[0m Trial 71 finished with value: 32.342499 and parameters: {'learning_rate': 0.5335877177268212, 'max_depth': 7, 'reg_alpha': 2.4782195391985544, 'reg_lambda': 6.990867225198019}. Best is trial 51 with value: 31.721067.\u001b[0m\n",
      "\u001b[32m[I 2022-01-05 23:21:05,772]\u001b[0m Trial 72 finished with value: 32.167664 and parameters: {'learning_rate': 0.44902909105890937, 'max_depth': 7, 'reg_alpha': 2.161280069775393, 'reg_lambda': 5.850647730536119}. Best is trial 51 with value: 31.721067.\u001b[0m\n",
      "\u001b[32m[I 2022-01-05 23:21:06,622]\u001b[0m Trial 73 finished with value: 32.314934 and parameters: {'learning_rate': 0.3413563239419656, 'max_depth': 6, 'reg_alpha': 0.029229448028023852, 'reg_lambda': 4.566274002926542}. Best is trial 51 with value: 31.721067.\u001b[0m\n",
      "\u001b[32m[I 2022-01-05 23:21:07,655]\u001b[0m Trial 74 finished with value: 31.771236 and parameters: {'learning_rate': 0.22040973766358282, 'max_depth': 8, 'reg_alpha': 0.6315274181323, 'reg_lambda': 2.44294798773234}. Best is trial 51 with value: 31.721067.\u001b[0m\n",
      "\u001b[32m[I 2022-01-05 23:21:08,589]\u001b[0m Trial 75 finished with value: 32.461445 and parameters: {'learning_rate': 0.207420481120456, 'max_depth': 7, 'reg_alpha': 0.6112355531742466, 'reg_lambda': 2.285858427817874}. Best is trial 51 with value: 31.721067.\u001b[0m\n",
      "\u001b[32m[I 2022-01-05 23:21:09,052]\u001b[0m Trial 76 finished with value: 35.402596 and parameters: {'learning_rate': 1.1713108837593935, 'max_depth': 8, 'reg_alpha': 1.7801236546896728, 'reg_lambda': 9.877896606590161}. Best is trial 51 with value: 31.721067.\u001b[0m\n",
      "\u001b[32m[I 2022-01-05 23:21:09,597]\u001b[0m Trial 77 finished with value: 33.581841 and parameters: {'learning_rate': 0.725720976609292, 'max_depth': 8, 'reg_alpha': 0.7736007577921913, 'reg_lambda': 4.017081004855071}. Best is trial 51 with value: 31.721067.\u001b[0m\n",
      "\u001b[32m[I 2022-01-05 23:21:10,304]\u001b[0m Trial 78 finished with value: 32.794815 and parameters: {'learning_rate': 0.34785623997243287, 'max_depth': 7, 'reg_alpha': 3.5852061440041743, 'reg_lambda': 2.928955886692796}. Best is trial 51 with value: 31.721067.\u001b[0m\n",
      "\u001b[32m[I 2022-01-05 23:21:11,199]\u001b[0m Trial 79 finished with value: 116.355667 and parameters: {'learning_rate': 0.00016620988822416493, 'max_depth': 6, 'reg_alpha': 2.731317016784774, 'reg_lambda': 7.285059425416607}. Best is trial 51 with value: 31.721067.\u001b[0m\n",
      "\u001b[32m[I 2022-01-05 23:21:11,346]\u001b[0m Trial 80 finished with value: 16361.698242 and parameters: {'learning_rate': 2.5898646808381, 'max_depth': 8, 'reg_alpha': 5.182511214660469, 'reg_lambda': 1.6918539715170768}. Best is trial 51 with value: 31.721067.\u001b[0m\n",
      "\u001b[32m[I 2022-01-05 23:21:12,520]\u001b[0m Trial 81 finished with value: 32.871056 and parameters: {'learning_rate': 0.2177125281005499, 'max_depth': 9, 'reg_alpha': 1.2550196923120258, 'reg_lambda': 1.094204774579314}. Best is trial 51 with value: 31.721067.\u001b[0m\n",
      "\u001b[32m[I 2022-01-05 23:21:13,657]\u001b[0m Trial 82 finished with value: 32.582985 and parameters: {'learning_rate': 0.1583228641556187, 'max_depth': 9, 'reg_alpha': 8.070472861595853, 'reg_lambda': 0.6848745603948675}. Best is trial 51 with value: 31.721067.\u001b[0m\n",
      "\u001b[32m[I 2022-01-05 23:21:14,059]\u001b[0m Trial 83 finished with value: 34.637527 and parameters: {'learning_rate': 0.42894484288899704, 'max_depth': 7, 'reg_alpha': 0.014423410120851859, 'reg_lambda': 0.31339931581295616}. Best is trial 51 with value: 31.721067.\u001b[0m\n",
      "\u001b[32m[I 2022-01-05 23:21:15,151]\u001b[0m Trial 84 finished with value: 33.718929 and parameters: {'learning_rate': 0.0662478221888183, 'max_depth': 8, 'reg_alpha': 0.04735603184315188, 'reg_lambda': 5.064078772299768}. Best is trial 51 with value: 31.721067.\u001b[0m\n",
      "\u001b[32m[I 2022-01-05 23:21:15,735]\u001b[0m Trial 85 finished with value: 32.959911 and parameters: {'learning_rate': 0.6234490794601292, 'max_depth': 9, 'reg_alpha': 3.7531493061890706, 'reg_lambda': 0.012103682040517906}. Best is trial 51 with value: 31.721067.\u001b[0m\n",
      "\u001b[32m[I 2022-01-05 23:21:16,829]\u001b[0m Trial 86 finished with value: 91.47216 and parameters: {'learning_rate': 0.0030638884189439306, 'max_depth': 8, 'reg_alpha': 1.7676403473725273, 'reg_lambda': 7.527521055162156}. Best is trial 51 with value: 31.721067.\u001b[0m\n",
      "\u001b[32m[I 2022-01-05 23:21:18,053]\u001b[0m Trial 87 finished with value: 31.856558 and parameters: {'learning_rate': 0.2693293881100897, 'max_depth': 10, 'reg_alpha': 2.519465884001786, 'reg_lambda': 3.334192828180742}. Best is trial 51 with value: 31.721067.\u001b[0m\n",
      "\u001b[32m[I 2022-01-05 23:21:18,585]\u001b[0m Trial 88 finished with value: 33.926846 and parameters: {'learning_rate': 0.8273868752682203, 'max_depth': 7, 'reg_alpha': 2.1975306094941724, 'reg_lambda': 3.5701963073786493}. Best is trial 51 with value: 31.721067.\u001b[0m\n",
      "\u001b[32m[I 2022-01-05 23:21:19,490]\u001b[0m Trial 89 finished with value: 32.622116 and parameters: {'learning_rate': 0.28709985245971653, 'max_depth': 6, 'reg_alpha': 9.953330368970146, 'reg_lambda': 2.3759403909793795}. Best is trial 51 with value: 31.721067.\u001b[0m\n",
      "\u001b[32m[I 2022-01-05 23:21:19,830]\u001b[0m Trial 90 finished with value: 40.485657 and parameters: {'learning_rate': 1.7259644989194844, 'max_depth': 10, 'reg_alpha': 6.184569104276478, 'reg_lambda': 4.770409188499241}. Best is trial 51 with value: 31.721067.\u001b[0m\n",
      "\u001b[32m[I 2022-01-05 23:21:21,077]\u001b[0m Trial 91 finished with value: 32.532509 and parameters: {'learning_rate': 0.16545486593205758, 'max_depth': 10, 'reg_alpha': 2.6180872581670105, 'reg_lambda': 1.5176524638000184}. Best is trial 51 with value: 31.721067.\u001b[0m\n",
      "\u001b[32m[I 2022-01-05 23:21:22,351]\u001b[0m Trial 92 finished with value: 33.259411 and parameters: {'learning_rate': 0.08846416238657773, 'max_depth': 10, 'reg_alpha': 1.0883568181437844, 'reg_lambda': 5.478130973674994}. Best is trial 51 with value: 31.721067.\u001b[0m\n",
      "\u001b[32m[I 2022-01-05 23:21:22,804]\u001b[0m Trial 93 finished with value: 33.234795 and parameters: {'learning_rate': 0.47128642197198556, 'max_depth': 9, 'reg_alpha': 1.6101274903606384, 'reg_lambda': 3.3399616378663968}. Best is trial 51 with value: 31.721067.\u001b[0m\n",
      "\u001b[32m[I 2022-01-05 23:21:23,989]\u001b[0m Trial 94 finished with value: 33.767677 and parameters: {'learning_rate': 0.043771723105706234, 'max_depth': 9, 'reg_alpha': 0.11625727020190421, 'reg_lambda': 7.624763816440472}. Best is trial 51 with value: 31.721067.\u001b[0m\n",
      "\u001b[32m[I 2022-01-05 23:21:25,391]\u001b[0m Trial 95 finished with value: 32.527569 and parameters: {'learning_rate': 0.27664498369749313, 'max_depth': 10, 'reg_alpha': 0.7140372376720716, 'reg_lambda': 2.2800144757117766}. Best is trial 51 with value: 31.721067.\u001b[0m\n",
      "\u001b[32m[I 2022-01-05 23:21:26,120]\u001b[0m Trial 96 finished with value: 34.40884 and parameters: {'learning_rate': 0.13105279286632765, 'max_depth': 4, 'reg_alpha': 4.123849353251828, 'reg_lambda': 1.0121016533547291}. Best is trial 51 with value: 31.721067.\u001b[0m\n",
      "\u001b[32m[I 2022-01-05 23:21:26,632]\u001b[0m Trial 97 finished with value: 32.366253 and parameters: {'learning_rate': 0.6260445293537428, 'max_depth': 5, 'reg_alpha': 0.009486905490744435, 'reg_lambda': 5.243789784365017}. Best is trial 51 with value: 31.721067.\u001b[0m\n",
      "\u001b[32m[I 2022-01-05 23:21:27,109]\u001b[0m Trial 98 finished with value: 33.31987 and parameters: {'learning_rate': 0.1977408636193648, 'max_depth': 10, 'reg_alpha': 3.1513158633583123, 'reg_lambda': 2.9860037657222387}. Best is trial 51 with value: 31.721067.\u001b[0m\n",
      "\u001b[32m[I 2022-01-05 23:21:27,693]\u001b[0m Trial 99 finished with value: 33.727215 and parameters: {'learning_rate': 0.4165753331937226, 'max_depth': 3, 'reg_alpha': 0.2942904232078975, 'reg_lambda': 9.830411340956438}. Best is trial 51 with value: 31.721067.\u001b[0m\n"
     ]
    }
   ],
   "source": [
    "study = optuna.create_study()\n",
    "study.optimize(objective, n_trials=100)"
   ]
  },
  {
   "cell_type": "code",
   "execution_count": 432,
   "metadata": {},
   "outputs": [
    {
     "data": {
      "text/plain": [
       "{'learning_rate': 0.5136871044790982,\n",
       " 'max_depth': 5,\n",
       " 'reg_alpha': 6.748368941467777,\n",
       " 'reg_lambda': 5.3731276139667425}"
      ]
     },
     "execution_count": 432,
     "metadata": {},
     "output_type": "execute_result"
    }
   ],
   "source": [
    "study.best_params"
   ]
  },
  {
   "cell_type": "code",
   "execution_count": 433,
   "metadata": {},
   "outputs": [
    {
     "name": "stdout",
     "output_type": "stream",
     "text": [
      "[0]\teval-rmse:68.26260\n",
      "[1]\teval-rmse:47.74981\n",
      "[2]\teval-rmse:40.08919\n",
      "[3]\teval-rmse:37.13378\n",
      "[4]\teval-rmse:36.16310\n",
      "[5]\teval-rmse:35.69289\n",
      "[6]\teval-rmse:35.30259\n",
      "[7]\teval-rmse:35.14588\n",
      "[8]\teval-rmse:34.98038\n",
      "[9]\teval-rmse:34.87869\n",
      "[10]\teval-rmse:34.83953\n",
      "[11]\teval-rmse:34.65310\n",
      "[12]\teval-rmse:34.62110\n",
      "[13]\teval-rmse:34.54393\n",
      "[14]\teval-rmse:34.35759\n",
      "[15]\teval-rmse:34.24030\n",
      "[16]\teval-rmse:34.31125\n",
      "[17]\teval-rmse:34.26074\n",
      "[18]\teval-rmse:34.15341\n",
      "[19]\teval-rmse:34.02132\n",
      "[20]\teval-rmse:34.02198\n",
      "[21]\teval-rmse:34.11306\n",
      "[22]\teval-rmse:34.01281\n",
      "[23]\teval-rmse:33.86225\n",
      "[24]\teval-rmse:33.73877\n",
      "[25]\teval-rmse:33.63835\n",
      "[26]\teval-rmse:33.69913\n",
      "[27]\teval-rmse:33.69310\n",
      "[28]\teval-rmse:33.65191\n",
      "[29]\teval-rmse:33.55723\n",
      "[30]\teval-rmse:33.52425\n",
      "[31]\teval-rmse:33.50767\n",
      "[32]\teval-rmse:33.42120\n",
      "[33]\teval-rmse:33.37885\n",
      "[34]\teval-rmse:33.47501\n",
      "[35]\teval-rmse:33.47775\n",
      "[36]\teval-rmse:33.44584\n",
      "[37]\teval-rmse:33.41974\n",
      "[38]\teval-rmse:33.41717\n",
      "[39]\teval-rmse:33.26380\n",
      "[40]\teval-rmse:33.24505\n",
      "[41]\teval-rmse:33.23815\n",
      "[42]\teval-rmse:33.19309\n",
      "[43]\teval-rmse:33.17707\n",
      "[44]\teval-rmse:33.14460\n",
      "[45]\teval-rmse:33.13845\n",
      "[46]\teval-rmse:33.04486\n",
      "[47]\teval-rmse:33.02861\n",
      "[48]\teval-rmse:33.00822\n",
      "[49]\teval-rmse:32.96634\n",
      "[50]\teval-rmse:32.96408\n",
      "[51]\teval-rmse:32.92832\n",
      "[52]\teval-rmse:32.91607\n",
      "[53]\teval-rmse:32.86908\n",
      "[54]\teval-rmse:32.85963\n",
      "[55]\teval-rmse:32.84604\n",
      "[56]\teval-rmse:32.83461\n",
      "[57]\teval-rmse:32.82994\n",
      "[58]\teval-rmse:32.83193\n",
      "[59]\teval-rmse:32.79958\n",
      "[60]\teval-rmse:32.73833\n",
      "[61]\teval-rmse:32.72632\n",
      "[62]\teval-rmse:32.71498\n",
      "[63]\teval-rmse:32.71233\n",
      "[64]\teval-rmse:32.74756\n",
      "[65]\teval-rmse:32.68314\n",
      "[66]\teval-rmse:32.67841\n",
      "[67]\teval-rmse:32.67476\n",
      "[68]\teval-rmse:32.59962\n",
      "[69]\teval-rmse:32.35442\n",
      "[70]\teval-rmse:32.18127\n",
      "[71]\teval-rmse:32.16875\n",
      "[72]\teval-rmse:32.12166\n",
      "[73]\teval-rmse:32.11354\n",
      "[74]\teval-rmse:32.10405\n",
      "[75]\teval-rmse:32.09470\n",
      "[76]\teval-rmse:32.08234\n",
      "[77]\teval-rmse:32.04800\n",
      "[78]\teval-rmse:32.02679\n",
      "[79]\teval-rmse:32.01220\n",
      "[80]\teval-rmse:31.99438\n",
      "[81]\teval-rmse:31.96302\n",
      "[82]\teval-rmse:31.94378\n",
      "[83]\teval-rmse:31.93157\n",
      "[84]\teval-rmse:31.92847\n",
      "[85]\teval-rmse:31.89954\n",
      "[86]\teval-rmse:31.89803\n",
      "[87]\teval-rmse:31.86638\n",
      "[88]\teval-rmse:31.85884\n",
      "[89]\teval-rmse:31.80871\n",
      "[90]\teval-rmse:31.81693\n",
      "[91]\teval-rmse:31.80870\n",
      "[92]\teval-rmse:31.79798\n",
      "[93]\teval-rmse:31.78369\n",
      "[94]\teval-rmse:31.77806\n",
      "[95]\teval-rmse:31.77049\n",
      "[96]\teval-rmse:31.75562\n",
      "[97]\teval-rmse:31.74871\n",
      "[98]\teval-rmse:31.72446\n",
      "[99]\teval-rmse:31.72107\n",
      "[100]\teval-rmse:31.69020\n",
      "[101]\teval-rmse:31.68587\n",
      "[102]\teval-rmse:31.67411\n",
      "[103]\teval-rmse:31.64741\n",
      "[104]\teval-rmse:31.63259\n",
      "[105]\teval-rmse:31.62263\n",
      "[106]\teval-rmse:31.61337\n",
      "[107]\teval-rmse:31.59911\n",
      "[108]\teval-rmse:31.53449\n",
      "[109]\teval-rmse:31.54847\n",
      "[110]\teval-rmse:31.54507\n",
      "[111]\teval-rmse:31.52853\n",
      "[112]\teval-rmse:31.52440\n",
      "[113]\teval-rmse:31.50325\n",
      "[114]\teval-rmse:31.50128\n",
      "[115]\teval-rmse:31.49422\n",
      "[116]\teval-rmse:31.50661\n",
      "[117]\teval-rmse:31.35846\n",
      "[118]\teval-rmse:31.36546\n",
      "[119]\teval-rmse:31.34777\n",
      "[120]\teval-rmse:31.33737\n",
      "[121]\teval-rmse:31.32570\n",
      "[122]\teval-rmse:31.31376\n",
      "[123]\teval-rmse:31.31047\n",
      "[124]\teval-rmse:31.29920\n",
      "[125]\teval-rmse:31.28947\n",
      "[126]\teval-rmse:31.27551\n",
      "[127]\teval-rmse:31.27525\n",
      "[128]\teval-rmse:31.27482\n",
      "[129]\teval-rmse:31.33029\n",
      "[130]\teval-rmse:31.24031\n",
      "[131]\teval-rmse:31.21751\n",
      "[132]\teval-rmse:31.21442\n",
      "[133]\teval-rmse:31.21205\n",
      "[134]\teval-rmse:31.20284\n",
      "[135]\teval-rmse:31.20838\n",
      "[136]\teval-rmse:31.22379\n",
      "[137]\teval-rmse:31.21647\n",
      "[138]\teval-rmse:31.20928\n",
      "[139]\teval-rmse:31.18462\n",
      "[140]\teval-rmse:31.17422\n",
      "[141]\teval-rmse:31.17353\n",
      "[142]\teval-rmse:31.15799\n",
      "[143]\teval-rmse:31.13329\n",
      "[144]\teval-rmse:31.13888\n",
      "[145]\teval-rmse:31.10412\n",
      "[146]\teval-rmse:31.16200\n",
      "[147]\teval-rmse:31.30536\n",
      "[148]\teval-rmse:31.30290\n",
      "[149]\teval-rmse:31.29697\n",
      "[150]\teval-rmse:31.31470\n",
      "[151]\teval-rmse:31.29769\n",
      "[152]\teval-rmse:31.29084\n",
      "[153]\teval-rmse:31.28872\n",
      "[154]\teval-rmse:31.27815\n",
      "[155]\teval-rmse:31.27483\n",
      "[156]\teval-rmse:31.26374\n",
      "[157]\teval-rmse:31.26263\n",
      "[158]\teval-rmse:31.26420\n",
      "[159]\teval-rmse:31.25731\n",
      "[160]\teval-rmse:31.24566\n",
      "[161]\teval-rmse:31.24280\n",
      "[162]\teval-rmse:31.23610\n",
      "[163]\teval-rmse:31.21709\n",
      "[164]\teval-rmse:31.23136\n",
      "[165]\teval-rmse:31.13418\n"
     ]
    },
    {
     "data": {
      "text/plain": [
       "<xgboost.core.Booster at 0x1dd4279a1c0>"
      ]
     },
     "execution_count": 433,
     "metadata": {},
     "output_type": "execute_result"
    }
   ],
   "source": [
    "# to get the optimium number of n_estimators\n",
    "xgb.train(study.best_params, dtrain, num_boost_round=600, evals=[(dtest, 'eval')], early_stopping_rounds=20, verbose_eval=1)"
   ]
  },
  {
   "cell_type": "code",
   "execution_count": 436,
   "metadata": {},
   "outputs": [
    {
     "data": {
      "text/plain": [
       "0.8092699571032654"
      ]
     },
     "execution_count": 436,
     "metadata": {},
     "output_type": "execute_result"
    }
   ],
   "source": [
    "xgr = xgb.XGBRegressor(**study.best_params, n_estimators=165)\n",
    "xgr.fit(xtrain, ytrain)\n",
    "xgr.score(xtest, ytest)"
   ]
  },
  {
   "cell_type": "code",
   "execution_count": 437,
   "metadata": {},
   "outputs": [],
   "source": [
    "def predict_price(location, sqft, bath, rooms):\n",
    "    x = [0]*len(X.columns)\n",
    "\n",
    "    if location in X.columns:\n",
    "        loc_ind = X.columns.get_loc(location)\n",
    "    else:\n",
    "        loc_ind = -1\n",
    "    \n",
    "    x[0], x[1], x[2], x[loc_ind] = sqft, bath, rooms, 1\n",
    "    pred = pd.DataFrame([x], columns=X.columns)\n",
    "    \n",
    "    return xgr.predict(pred)[0]"
   ]
  },
  {
   "cell_type": "code",
   "execution_count": 438,
   "metadata": {},
   "outputs": [
    {
     "data": {
      "text/plain": [
       "66.68875"
      ]
     },
     "execution_count": 438,
     "metadata": {},
     "output_type": "execute_result"
    }
   ],
   "source": [
    "# testing the predict function\n",
    "predict_price('1st Phase JP Nagar', 1000, 2, 2)"
   ]
  },
  {
   "cell_type": "code",
   "execution_count": 441,
   "metadata": {},
   "outputs": [],
   "source": [
    "# saving files \n",
    "import pickle \n",
    "import json\n",
    "\n",
    "with open('house_price_model.pickle', 'wb') as f:\n",
    "    pickle.dump(xgr, f)\n",
    "\n",
    "columns = {'columns': [col.lower() for col in X.columns]}\n",
    "\n",
    "with open('columns.json', 'w') as f:\n",
    "    json.dump(columns, f)"
   ]
  },
  {
   "cell_type": "code",
   "execution_count": null,
   "metadata": {},
   "outputs": [],
   "source": []
  }
 ],
 "metadata": {
  "interpreter": {
   "hash": "9483d3a6b315267bc1ad8033d72d52edd75e7f3d51fd5ecb041025f625014cad"
  },
  "kernelspec": {
   "display_name": "Python 3.9.4 64-bit ('minimal_ds': conda)",
   "language": "python",
   "name": "python3"
  },
  "language_info": {
   "codemirror_mode": {
    "name": "ipython",
    "version": 3
   },
   "file_extension": ".py",
   "mimetype": "text/x-python",
   "name": "python",
   "nbconvert_exporter": "python",
   "pygments_lexer": "ipython3",
   "version": "3.9.4"
  },
  "orig_nbformat": 4
 },
 "nbformat": 4,
 "nbformat_minor": 2
}
